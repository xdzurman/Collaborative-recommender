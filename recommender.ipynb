{
 "cells": [
  {
   "cell_type": "code",
   "execution_count": 1,
   "metadata": {},
   "outputs": [],
   "source": [
    "import pandas as pd\n",
    "import numpy as np\n",
    "import matplotlib.pyplot as plt\n",
    "import seaborn as sns"
   ]
  },
  {
   "cell_type": "code",
   "execution_count": 2,
   "metadata": {},
   "outputs": [
    {
     "name": "stderr",
     "output_type": "stream",
     "text": [
      "/usr/lib/python3/dist-packages/IPython/core/interactiveshell.py:2718: DtypeWarning: Columns (5) have mixed types. Specify dtype option on import or set low_memory=False.\n",
      "  interactivity=interactivity, compiler=compiler, result=result)\n"
     ]
    }
   ],
   "source": [
    "df_events = pd.read_csv('events_train.csv')\n",
    "df_purchases = pd.read_csv('purchases_train.csv')"
   ]
  },
  {
   "cell_type": "code",
   "execution_count": 3,
   "metadata": {},
   "outputs": [
    {
     "data": {
      "text/html": [
       "<div>\n",
       "<style scoped>\n",
       "    .dataframe tbody tr th:only-of-type {\n",
       "        vertical-align: middle;\n",
       "    }\n",
       "\n",
       "    .dataframe tbody tr th {\n",
       "        vertical-align: top;\n",
       "    }\n",
       "\n",
       "    .dataframe thead th {\n",
       "        text-align: right;\n",
       "    }\n",
       "</style>\n",
       "<table border=\"1\" class=\"dataframe\">\n",
       "  <thead>\n",
       "    <tr style=\"text-align: right;\">\n",
       "      <th></th>\n",
       "      <th>customer_id</th>\n",
       "      <th>timestamp</th>\n",
       "      <th>event_type</th>\n",
       "      <th>product_id</th>\n",
       "      <th>title</th>\n",
       "      <th>category_name</th>\n",
       "      <th>price</th>\n",
       "    </tr>\n",
       "  </thead>\n",
       "  <tbody>\n",
       "    <tr>\n",
       "      <th>0</th>\n",
       "      <td>204685f9-00f0-4a36-bab1-e0b74673c3b1</td>\n",
       "      <td>2019-07-01 00:00:01.101977 UTC</td>\n",
       "      <td>view_item</td>\n",
       "      <td>f130c542-d793-41d0-88f6-d1c52b4fe8f0</td>\n",
       "      <td>Michael Kors Nappa Leather Racer Jacket</td>\n",
       "      <td>NaN</td>\n",
       "      <td>747.49</td>\n",
       "    </tr>\n",
       "    <tr>\n",
       "      <th>1</th>\n",
       "      <td>552445a5-f41d-4b25-b479-4e776d9bee61</td>\n",
       "      <td>2019-07-01 00:00:01.901589 UTC</td>\n",
       "      <td>view_item</td>\n",
       "      <td>29db8f57-49bd-4108-a0bb-0d245278e999</td>\n",
       "      <td>Puma Woven Shorts Girls</td>\n",
       "      <td>NaN</td>\n",
       "      <td>11.92</td>\n",
       "    </tr>\n",
       "    <tr>\n",
       "      <th>2</th>\n",
       "      <td>fac01f48-a03a-41f2-acd5-b5f4e407d9c2</td>\n",
       "      <td>2019-07-01 00:00:08.954928 UTC</td>\n",
       "      <td>view_item</td>\n",
       "      <td>a90bddc4-8eb7-4c99-aa4f-2f2377c246a2</td>\n",
       "      <td>Trendyol Multi-colored Flywheel Detailed Swimwear</td>\n",
       "      <td>NaN</td>\n",
       "      <td>23.85</td>\n",
       "    </tr>\n",
       "  </tbody>\n",
       "</table>\n",
       "</div>"
      ],
      "text/plain": [
       "                            customer_id                       timestamp  \\\n",
       "0  204685f9-00f0-4a36-bab1-e0b74673c3b1  2019-07-01 00:00:01.101977 UTC   \n",
       "1  552445a5-f41d-4b25-b479-4e776d9bee61  2019-07-01 00:00:01.901589 UTC   \n",
       "2  fac01f48-a03a-41f2-acd5-b5f4e407d9c2  2019-07-01 00:00:08.954928 UTC   \n",
       "\n",
       "  event_type                            product_id  \\\n",
       "0  view_item  f130c542-d793-41d0-88f6-d1c52b4fe8f0   \n",
       "1  view_item  29db8f57-49bd-4108-a0bb-0d245278e999   \n",
       "2  view_item  a90bddc4-8eb7-4c99-aa4f-2f2377c246a2   \n",
       "\n",
       "                                               title category_name   price  \n",
       "0            Michael Kors Nappa Leather Racer Jacket           NaN  747.49  \n",
       "1                            Puma Woven Shorts Girls           NaN   11.92  \n",
       "2  Trendyol Multi-colored Flywheel Detailed Swimwear           NaN   23.85  "
      ]
     },
     "execution_count": 3,
     "metadata": {},
     "output_type": "execute_result"
    }
   ],
   "source": [
    "df_events[:3]"
   ]
  },
  {
   "cell_type": "code",
   "execution_count": 4,
   "metadata": {},
   "outputs": [
    {
     "data": {
      "text/html": [
       "<div>\n",
       "<style scoped>\n",
       "    .dataframe tbody tr th:only-of-type {\n",
       "        vertical-align: middle;\n",
       "    }\n",
       "\n",
       "    .dataframe tbody tr th {\n",
       "        vertical-align: top;\n",
       "    }\n",
       "\n",
       "    .dataframe thead th {\n",
       "        text-align: right;\n",
       "    }\n",
       "</style>\n",
       "<table border=\"1\" class=\"dataframe\">\n",
       "  <thead>\n",
       "    <tr style=\"text-align: right;\">\n",
       "      <th></th>\n",
       "      <th>customer_id</th>\n",
       "      <th>timestamp</th>\n",
       "      <th>event_type</th>\n",
       "      <th>product_id</th>\n",
       "      <th>title</th>\n",
       "      <th>category_name</th>\n",
       "      <th>price</th>\n",
       "    </tr>\n",
       "  </thead>\n",
       "  <tbody>\n",
       "    <tr>\n",
       "      <th>0</th>\n",
       "      <td>0d1b7397-7d3c-44c0-9efc-d38bf197828b</td>\n",
       "      <td>2019-07-01 00:05:54.308966 UTC</td>\n",
       "      <td>purchase_item</td>\n",
       "      <td>954f9f2c-d3ca-4236-ac9a-4ea7bcf09305</td>\n",
       "      <td>Trendyol Leopard print Bikini bottom</td>\n",
       "      <td>NaN</td>\n",
       "      <td>NaN</td>\n",
       "    </tr>\n",
       "    <tr>\n",
       "      <th>1</th>\n",
       "      <td>81ccae7e-e496-4997-a289-4669bf53f33e</td>\n",
       "      <td>2019-07-01 00:20:03.404186 UTC</td>\n",
       "      <td>purchase_item</td>\n",
       "      <td>75b281e5-8a16-42cb-9ae0-9a98db7a2c40</td>\n",
       "      <td>No Fear Reflect Shorts Mens</td>\n",
       "      <td>NaN</td>\n",
       "      <td>NaN</td>\n",
       "    </tr>\n",
       "    <tr>\n",
       "      <th>2</th>\n",
       "      <td>50777c55-8dd6-4309-a5ca-26e66c8a8279</td>\n",
       "      <td>2019-07-01 00:34:35.989935 UTC</td>\n",
       "      <td>purchase_item</td>\n",
       "      <td>0112dec8-47f5-4c2c-9109-571e2dbb6345</td>\n",
       "      <td>Trendyol Multicolor camisole Blouse</td>\n",
       "      <td>NaN</td>\n",
       "      <td>NaN</td>\n",
       "    </tr>\n",
       "  </tbody>\n",
       "</table>\n",
       "</div>"
      ],
      "text/plain": [
       "                            customer_id                       timestamp  \\\n",
       "0  0d1b7397-7d3c-44c0-9efc-d38bf197828b  2019-07-01 00:05:54.308966 UTC   \n",
       "1  81ccae7e-e496-4997-a289-4669bf53f33e  2019-07-01 00:20:03.404186 UTC   \n",
       "2  50777c55-8dd6-4309-a5ca-26e66c8a8279  2019-07-01 00:34:35.989935 UTC   \n",
       "\n",
       "      event_type                            product_id  \\\n",
       "0  purchase_item  954f9f2c-d3ca-4236-ac9a-4ea7bcf09305   \n",
       "1  purchase_item  75b281e5-8a16-42cb-9ae0-9a98db7a2c40   \n",
       "2  purchase_item  0112dec8-47f5-4c2c-9109-571e2dbb6345   \n",
       "\n",
       "                                  title category_name  price  \n",
       "0  Trendyol Leopard print Bikini bottom           NaN    NaN  \n",
       "1           No Fear Reflect Shorts Mens           NaN    NaN  \n",
       "2   Trendyol Multicolor camisole Blouse           NaN    NaN  "
      ]
     },
     "execution_count": 4,
     "metadata": {},
     "output_type": "execute_result"
    }
   ],
   "source": [
    "df_purchases[:3]"
   ]
  },
  {
   "cell_type": "code",
   "execution_count": 5,
   "metadata": {},
   "outputs": [],
   "source": [
    "def get_unique_counts(df, columns):\n",
    "    print('Unique value counts per column:')\n",
    "    for column in columns:\n",
    "        print('{:<25}{:>}'.format('Unique ' + column + 's:', len(df[column].unique())))"
   ]
  },
  {
   "cell_type": "markdown",
   "metadata": {},
   "source": [
    "## Events"
   ]
  },
  {
   "cell_type": "code",
   "execution_count": 6,
   "metadata": {},
   "outputs": [
    {
     "data": {
      "text/plain": [
       "(14614385, 7)"
      ]
     },
     "execution_count": 6,
     "metadata": {},
     "output_type": "execute_result"
    }
   ],
   "source": [
    "df_events.shape"
   ]
  },
  {
   "cell_type": "code",
   "execution_count": 7,
   "metadata": {},
   "outputs": [
    {
     "name": "stdout",
     "output_type": "stream",
     "text": [
      "Unique value counts per column:\n",
      "Unique event_types:      1\n",
      "Unique product_ids:      123724\n",
      "Unique titles:           71438\n",
      "Unique category_names:   714\n"
     ]
    }
   ],
   "source": [
    "get_unique_counts(df_events, ['event_type', 'product_id', 'title', 'category_name'])"
   ]
  },
  {
   "cell_type": "markdown",
   "metadata": {},
   "source": [
    "##### Extract gender, clothes types?"
   ]
  },
  {
   "cell_type": "code",
   "execution_count": 8,
   "metadata": {},
   "outputs": [
    {
     "data": {
      "text/plain": [
       "array([nan, \"Women>Women's Clothing>Dresses>Maxi dress\",\n",
       "       \"Women>Women's Clothing>Dresses>Mini dress\",\n",
       "       \"Women>Women's Footwear>Balerinas\",\n",
       "       \"Women>Women's Clothing>Dresses>Midi dress\",\n",
       "       \"Women>Women's Clothing>Shirts>Checkered shirts\",\n",
       "       'Men>Men Clothing>Shorts', 'Delivery Immediately',\n",
       "       \"Women>Women's Clothing>Dresses>Casual Dress\",\n",
       "       \"Women>Women's Clothing>Dresses>Wedding dress\"], dtype=object)"
      ]
     },
     "execution_count": 8,
     "metadata": {},
     "output_type": "execute_result"
    }
   ],
   "source": [
    "df_events.category_name.unique()[:10]"
   ]
  },
  {
   "cell_type": "code",
   "execution_count": 9,
   "metadata": {},
   "outputs": [
    {
     "data": {
      "text/plain": [
       "count    14614385.000000\n",
       "mean           33.268690\n",
       "std           122.109854\n",
       "min             0.060000\n",
       "25%            12.730000\n",
       "50%            22.050000\n",
       "75%            39.750000\n",
       "max         32636.460000\n",
       "Name: price, dtype: object"
      ]
     },
     "execution_count": 9,
     "metadata": {},
     "output_type": "execute_result"
    }
   ],
   "source": [
    "df_events.price.describe().apply(lambda x: format(x, 'f'))"
   ]
  },
  {
   "cell_type": "code",
   "execution_count": 10,
   "metadata": {},
   "outputs": [
    {
     "data": {
      "text/plain": [
       "(1668, 7)"
      ]
     },
     "execution_count": 10,
     "metadata": {},
     "output_type": "execute_result"
    }
   ],
   "source": [
    "df_events[df_events.price > 1000].shape"
   ]
  },
  {
   "cell_type": "markdown",
   "metadata": {},
   "source": [
    "## Purchases"
   ]
  },
  {
   "cell_type": "code",
   "execution_count": 11,
   "metadata": {},
   "outputs": [
    {
     "data": {
      "text/plain": [
       "(188712, 7)"
      ]
     },
     "execution_count": 11,
     "metadata": {},
     "output_type": "execute_result"
    }
   ],
   "source": [
    "df_purchases.shape"
   ]
  },
  {
   "cell_type": "code",
   "execution_count": 12,
   "metadata": {},
   "outputs": [
    {
     "name": "stdout",
     "output_type": "stream",
     "text": [
      "Unique value counts per column:\n",
      "Unique event_types:      1\n",
      "Unique product_ids:      33613\n",
      "Unique titles:           19289\n",
      "Unique category_names:   629\n"
     ]
    }
   ],
   "source": [
    "get_unique_counts(df_purchases, ['event_type', 'product_id', 'title', 'category_name'])"
   ]
  },
  {
   "cell_type": "code",
   "execution_count": 13,
   "metadata": {},
   "outputs": [
    {
     "data": {
      "text/plain": [
       "<matplotlib.axes._subplots.AxesSubplot at 0x7f837bab6630>"
      ]
     },
     "execution_count": 13,
     "metadata": {},
     "output_type": "execute_result"
    },
    {
     "data": {
      "image/png": "[encoded data removed]",
      "text/plain": [
       "<Figure size 432x288 with 1 Axes>"
      ]
     },
     "metadata": {},
     "output_type": "display_data"
    }
   ],
   "source": [
    "df_purchases.price.plot.hist(bins=30)"
   ]
  },
  {
   "cell_type": "code",
   "execution_count": 14,
   "metadata": {},
   "outputs": [
    {
     "data": {
      "text/plain": [
       "<matplotlib.axes._subplots.AxesSubplot at 0x7f83042d4a20>"
      ]
     },
     "execution_count": 14,
     "metadata": {},
     "output_type": "execute_result"
    },
    {
     "data": {
      "image/png": "[encoded data removed]",
      "text/plain": [
       "<Figure size 432x288 with 1 Axes>"
      ]
     },
     "metadata": {},
     "output_type": "display_data"
    }
   ],
   "source": [
    "df_purchases.price.plot.box()"
   ]
  },
  {
   "cell_type": "markdown",
   "metadata": {},
   "source": [
    "#### Notes:\n",
    "\n",
    "- kategoriu rozparsovat na viacero stlpcov\n",
    "- TF-IDF na title\n",
    "- titlov je menej ako ID, casto je rovnaky nazov ale ine id, kedze sa mozu lisit vo farbe\n",
    "- tam kde chybaju data sa pozerat, ci nahodou rovnaky produkt niekde inde v datach nema doplnenu price/category_name aby som doplnil chybajuce\n",
    "- ak nemam aj tak najdene chybajuce hodnoty, skusat z rovnakej kategorie doplnit priemer a pod.\n",
    "- povedal som ze sa chcem zamerat na hladiny cien, kategorie, TF-IDF titles\n",
    "- on povedal aby som sa pozrel na vztahmi medzi kategoriami, tj ked niekto kupoval hento tak potom casto kupil toto\n",
    "- data spojit, su rovnake ale proste prisli v rozdielnych suboroch"
   ]
  }
 ],
 "metadata": {
  "kernelspec": {
   "display_name": "Python 3",
   "language": "python",
   "name": "python3"
  },
  "language_info": {
   "codemirror_mode": {
    "name": "ipython",
    "version": 3
   },
   "file_extension": ".py",
   "mimetype": "text/x-python",
   "name": "python",
   "nbconvert_exporter": "python",
   "pygments_lexer": "ipython3",
   "version": "3.6.8"
  }
 },
 "nbformat": 4,
 "nbformat_minor": 2
}
