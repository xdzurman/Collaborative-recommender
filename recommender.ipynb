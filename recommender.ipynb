{
 "cells": [
  {
   "cell_type": "code",
   "execution_count": 2,
   "metadata": {},
   "outputs": [],
   "source": [
    "import pandas as pd\n",
    "import numpy as np\n",
    "import matplotlib.pyplot as plt\n",
    "import seaborn as sns\n",
    "from scipy import sparse\n",
    "from sklearn.metrics.pairwise import cosine_similarity\n",
    "from sklearn.neighbors import NearestNeighbors\n",
    "import numpy as np\n",
    "import time\n",
    "import heapq"
   ]
  },
  {
   "cell_type": "markdown",
   "metadata": {},
   "source": [
    "### Load original Data, sort by timestamp and save it"
   ]
  },
  {
   "cell_type": "code",
   "execution_count": 2,
   "metadata": {
    "scrolled": true
   },
   "outputs": [],
   "source": [
    "# df = pd.concat((pd.read_csv('events_train.csv'), pd.read_csv('purchases_train.csv')), ignore_index=True)\n",
    "# df.sort_values(by=['timestamp'], inplace=True)\n",
    "# df.to_csv('unified_df.csv')"
   ]
  },
  {
   "cell_type": "code",
   "execution_count": 3,
   "metadata": {
    "scrolled": true
   },
   "outputs": [
    {
     "name": "stderr",
     "output_type": "stream",
     "text": [
      "/usr/lib/python3/dist-packages/IPython/core/interactiveshell.py:2718: DtypeWarning: Columns (6) have mixed types. Specify dtype option on import or set low_memory=False.\n",
      "  interactivity=interactivity, compiler=compiler, result=result)\n"
     ]
    }
   ],
   "source": [
    "df = pd.read_csv('unified_df.csv')"
   ]
  },
  {
   "cell_type": "code",
   "execution_count": 4,
   "metadata": {},
   "outputs": [],
   "source": [
    "def get_unique_counts(df, columns):\n",
    "    print('Unique value counts per column:')\n",
    "    for column in columns:\n",
    "        print('{:<25}{:>}'.format('Unique ' + column + 's:', len(df[column].unique())))"
   ]
  },
  {
   "cell_type": "code",
   "execution_count": 5,
   "metadata": {},
   "outputs": [
    {
     "name": "stdout",
     "output_type": "stream",
     "text": [
      "Unique value counts per column:\n",
      "Unique event_types:      2\n",
      "Unique customer_ids:     2211386\n",
      "Unique product_ids:      123837\n",
      "Unique titles:           71441\n",
      "Unique category_names:   714\n"
     ]
    }
   ],
   "source": [
    "get_unique_counts(df, ['event_type', 'customer_id', 'product_id', 'title', 'category_name'])"
   ]
  },
  {
   "cell_type": "markdown",
   "metadata": {},
   "source": [
    "##### Extract gender, clothes types?"
   ]
  },
  {
   "cell_type": "code",
   "execution_count": 6,
   "metadata": {},
   "outputs": [],
   "source": [
    "# df.category_name.unique()[:10]"
   ]
  },
  {
   "cell_type": "code",
   "execution_count": 7,
   "metadata": {},
   "outputs": [],
   "source": [
    "# df.category_name.str.count('>')"
   ]
  },
  {
   "cell_type": "code",
   "execution_count": 8,
   "metadata": {},
   "outputs": [],
   "source": [
    "# df.category_name.apply(lambda x: str(x).split('>')[0] if len(str(x).split('>')) > 0 else 'empty').value_counts()"
   ]
  },
  {
   "cell_type": "code",
   "execution_count": 9,
   "metadata": {},
   "outputs": [],
   "source": [
    "# df.price.describe().apply(lambda x: format(x, 'f'))"
   ]
  },
  {
   "cell_type": "code",
   "execution_count": 10,
   "metadata": {},
   "outputs": [],
   "source": [
    "# df_purchases.price.plot.hist(bins=30)"
   ]
  },
  {
   "cell_type": "code",
   "execution_count": 11,
   "metadata": {},
   "outputs": [],
   "source": [
    "# df_purchases.price.plot.box()"
   ]
  },
  {
   "cell_type": "markdown",
   "metadata": {},
   "source": [
    "## Filling missing data"
   ]
  },
  {
   "cell_type": "code",
   "execution_count": 4,
   "metadata": {},
   "outputs": [],
   "source": [
    "def get_missing_count(df, columns):\n",
    "    print('Missing counts per column:')\n",
    "    for column in columns:\n",
    "        print('{:<25}{:>}'.format('Missing ' + column + 's:', df[column].isna().sum()))"
   ]
  },
  {
   "cell_type": "code",
   "execution_count": 5,
   "metadata": {},
   "outputs": [
    {
     "name": "stdout",
     "output_type": "stream",
     "text": [
      "Missing counts per column:\n",
      "Missing customer_ids:    0\n",
      "Missing event_types:     0\n",
      "Missing product_ids:     0\n",
      "Missing titles:          1813\n",
      "Missing category_names:  3435732\n",
      "Missing prices:          44886\n"
     ]
    }
   ],
   "source": [
    "get_missing_count(df, ['customer_id', 'event_type', 'product_id', 'title', 'category_name', 'price'])"
   ]
  },
  {
   "cell_type": "markdown",
   "metadata": {},
   "source": [
    "Fill missing titles based on equal product_ids."
   ]
  },
  {
   "cell_type": "code",
   "execution_count": 6,
   "metadata": {},
   "outputs": [
    {
     "name": "stdout",
     "output_type": "stream",
     "text": [
      "Missing counts per column:\n",
      "Missing titles:          30\n"
     ]
    }
   ],
   "source": [
    "df.loc[df.title.isnull(), 'title'] = df.groupby('product_id')['title'].transform('first')\n",
    "get_missing_count(df, ['title'])"
   ]
  },
  {
   "cell_type": "markdown",
   "metadata": {},
   "source": [
    "Fill missing category_names based on equal product_ids."
   ]
  },
  {
   "cell_type": "code",
   "execution_count": 7,
   "metadata": {},
   "outputs": [
    {
     "name": "stdout",
     "output_type": "stream",
     "text": [
      "Missing counts per column:\n",
      "Missing category_names:  25034\n"
     ]
    }
   ],
   "source": [
    "df.loc[df.category_name.isnull(), 'category_name'] = df.groupby('product_id')['category_name'].transform('first')\n",
    "get_missing_count(df, ['category_name'])"
   ]
  },
  {
   "cell_type": "markdown",
   "metadata": {},
   "source": [
    "Fill missing titles based on equal category_names."
   ]
  },
  {
   "cell_type": "code",
   "execution_count": 8,
   "metadata": {},
   "outputs": [
    {
     "name": "stdout",
     "output_type": "stream",
     "text": [
      "Missing counts per column:\n",
      "Missing titles:          26\n"
     ]
    }
   ],
   "source": [
    "df.loc[df.title.isnull(), 'title'] = df.groupby('category_name')['title'].transform('first')\n",
    "get_missing_count(df, ['title'])"
   ]
  },
  {
   "cell_type": "markdown",
   "metadata": {},
   "source": [
    "Fill missing category_names based on equal titles."
   ]
  },
  {
   "cell_type": "code",
   "execution_count": 9,
   "metadata": {
    "scrolled": true
   },
   "outputs": [
    {
     "name": "stdout",
     "output_type": "stream",
     "text": [
      "Missing counts per column:\n",
      "Missing category_names:  8583\n"
     ]
    }
   ],
   "source": [
    "df.loc[df.category_name.isnull(), 'category_name'] = df.groupby('title')['category_name'].transform('first')\n",
    "get_missing_count(df, ['category_name'])"
   ]
  },
  {
   "cell_type": "markdown",
   "metadata": {},
   "source": [
    "Fill missing price based on equal titles and category_names"
   ]
  },
  {
   "cell_type": "code",
   "execution_count": 10,
   "metadata": {},
   "outputs": [
    {
     "name": "stdout",
     "output_type": "stream",
     "text": [
      "Missing counts per column:\n",
      "Missing prices:          0\n"
     ]
    }
   ],
   "source": [
    "df.loc[df.price.isnull(), 'price'] = df.groupby('title')['price'].transform('first')\n",
    "df.loc[df.price.isnull(), 'price'] = df.groupby('category_name')['price'].transform('first')\n",
    "get_missing_count(df, ['price'])"
   ]
  },
  {
   "cell_type": "code",
   "execution_count": 30,
   "metadata": {},
   "outputs": [
    {
     "ename": "NameError",
     "evalue": "name 'df' is not defined",
     "output_type": "error",
     "traceback": [
      "\u001b[0;31m---------------------------------------------------------------------------\u001b[0m",
      "\u001b[0;31mNameError\u001b[0m                                 Traceback (most recent call last)",
      "\u001b[0;32m<ipython-input-30-3cf9f34e7d2f>\u001b[0m in \u001b[0;36m<module>\u001b[0;34m()\u001b[0m\n\u001b[0;32m----> 1\u001b[0;31m \u001b[0mtrain_size\u001b[0m \u001b[0;34m=\u001b[0m \u001b[0mround\u001b[0m\u001b[0;34m(\u001b[0m\u001b[0mdf\u001b[0m\u001b[0;34m.\u001b[0m\u001b[0mshape\u001b[0m\u001b[0;34m[\u001b[0m\u001b[0;36m0\u001b[0m\u001b[0;34m]\u001b[0m\u001b[0;34m*\u001b[0m\u001b[0;36m0.85\u001b[0m\u001b[0;34m)\u001b[0m\u001b[0;34m\u001b[0m\u001b[0;34m\u001b[0m\u001b[0m\n\u001b[0m\u001b[1;32m      2\u001b[0m \u001b[0mprint\u001b[0m\u001b[0;34m(\u001b[0m\u001b[0;34m'Train len for 85-15% split:'\u001b[0m\u001b[0;34m,\u001b[0m \u001b[0mtrain_size\u001b[0m\u001b[0;34m)\u001b[0m\u001b[0;34m\u001b[0m\u001b[0;34m\u001b[0m\u001b[0m\n",
      "\u001b[0;31mNameError\u001b[0m: name 'df' is not defined"
     ]
    }
   ],
   "source": [
    "train_size = round(df.shape[0]*0.85)\n",
    "print('Train len for 85-15% split:', train_size)"
   ]
  },
  {
   "cell_type": "markdown",
   "metadata": {},
   "source": [
    "#### Map categorical columns to their codes for sparse format"
   ]
  },
  {
   "cell_type": "code",
   "execution_count": 12,
   "metadata": {},
   "outputs": [],
   "source": [
    "customer_id_categorical = df[:train_size]['customer_id'].astype(\"category\")\n",
    "product_id_categorical = df[:train_size]['product_id'].astype(\"category\")"
   ]
  },
  {
   "cell_type": "markdown",
   "metadata": {},
   "source": [
    "#### Remember category codes for later lookups"
   ]
  },
  {
   "cell_type": "code",
   "execution_count": 13,
   "metadata": {},
   "outputs": [],
   "source": [
    "customer_id_lookup = customer_id_categorical.cat.codes\n",
    "product_id_lookup = product_id_categorical.cat.codes"
   ]
  },
  {
   "cell_type": "markdown",
   "metadata": {},
   "source": [
    "#### Map customers to categories and items for later lookups"
   ]
  },
  {
   "cell_type": "code",
   "execution_count": 14,
   "metadata": {
    "scrolled": true
   },
   "outputs": [],
   "source": [
    "customer_map = dict((y, x) for x, y in enumerate(customer_id_categorical.cat.categories ))\n",
    "item_map = dict((x, y) for x, y in enumerate(product_id_categorical.cat.categories ))"
   ]
  },
  {
   "cell_type": "code",
   "execution_count": 29,
   "metadata": {},
   "outputs": [
    {
     "data": {
      "text/plain": [
       "0    204685f9-00f0-4a36-bab1-e0b74673c3b1\n",
       "1    552445a5-f41d-4b25-b479-4e776d9bee61\n",
       "2    fac01f48-a03a-41f2-acd5-b5f4e407d9c2\n",
       "Name: customer_id, dtype: category\n",
       "Categories (1882180, object): [0000130d-9652-4cfb-8c9c-1b1d97b988ab, 000014d9-5e0c-4a15-8697-20ac41f9a388, 000027e5-4dbd-4b9f-9a56-e4414f325358, 0000461a-6b42-456b-a47c-bc34749e62ce, ..., ffffe78e-28e6-467e-98b4-b6ebe83ca14b, fffff354-dd1f-451b-8c41-f1c039560280, fffffdc5-d457-470f-9939-6bb5df9593ba, fffffed2-4e10-445e-af87-f9b67c84438a]"
      ]
     },
     "execution_count": 29,
     "metadata": {},
     "output_type": "execute_result"
    }
   ],
   "source": [
    "customer_id_categorical[:3]"
   ]
  },
  {
   "cell_type": "code",
   "execution_count": 31,
   "metadata": {},
   "outputs": [
    {
     "data": {
      "text/plain": [
       "0     238211\n",
       "1     626251\n",
       "2    1843948\n",
       "dtype: int32"
      ]
     },
     "execution_count": 31,
     "metadata": {},
     "output_type": "execute_result"
    }
   ],
   "source": [
    "customer_id_lookup[:3]"
   ]
  },
  {
   "cell_type": "code",
   "execution_count": 32,
   "metadata": {},
   "outputs": [
    {
     "data": {
      "text/plain": [
       "{'0000130d-9652-4cfb-8c9c-1b1d97b988ab': 0,\n",
       " '000014d9-5e0c-4a15-8697-20ac41f9a388': 1,\n",
       " '000027e5-4dbd-4b9f-9a56-e4414f325358': 2,\n",
       " '0000461a-6b42-456b-a47c-bc34749e62ce': 3,\n",
       " '00005327-02a5-417d-8d62-b7a306498644': 4,\n",
       " '00005472-9e83-499a-9626-f60be9f0c66e': 5,\n",
       " '00005526-a81b-48ae-9a47-0386c9c8e746': 6,\n",
       " '00007581-8778-4364-b947-7392acd1f0f3': 7,\n",
       " '00008024-003f-4d1b-ac05-57bb88463abf': 8,\n",
       " '00008767-6459-4951-9efe-c551126e6887': 9,\n",
       " '00008cb0-f4a9-4a46-9dfc-713b7998b2b2': 10,\n",
       " '00008fe6-f3f6-4d64-a79b-84c9257b6b7a': 11,\n",
       " '00009144-f7e7-41a3-8911-f63bf6c1239e': 12,\n",
       " '0000a346-26cc-4e02-a510-b9d2d493b5e5': 13,\n",
       " '0000ab30-a26b-4ccd-9959-4d29f7382edc': 14,\n",
       " '0000b13b-0b6e-47ce-8421-aa0eed110952': 15,\n",
       " '0000bfe2-1277-4593-8c59-f6c37cd30d81': 16,\n",
       " '0000d0a1-4f8f-4aef-b216-d0c4ee51fa8e': 17,\n",
       " '0000d44b-010f-4763-be3b-d41c1bd65e12': 18,\n",
       " '0000d98c-2871-4c15-b910-73eded02ec4a': 19,\n",
       " '0000dcd1-ce01-413c-acc2-c9536980bb00': 20,\n",
       " '0000de0a-6bc1-4175-88ee-f1311c484ee8': 21,\n",
       " '0000e081-cb9c-4743-b59a-21a20ba63981': 22,\n",
       " '0000e12f-8474-416c-811c-6b92ad3b60cb': 23,\n",
       " '0000e4df-7b89-40ab-ab71-0872f40c7d43': 24,\n",
       " '0000f677-120c-46bf-99da-d2ce6f0b9b28': 25,\n",
       " '0000f9c9-8773-4ff3-ba38-59e4970a9191': 26,\n",
       " '00010003-7b02-46ad-89ae-490ea6cb5d6e': 27,\n",
       " '00010168-c220-45db-993e-538c0da89656': 28,\n",
       " '00011450-5f66-435a-935f-299275b16f4d': 29,\n",
       " '00012679-856e-40f5-b6b6-412182464eb4': 30,\n",
       " '00012d07-a13a-47a7-a4cd-d333860bee38': 31,\n",
       " '00012f87-dee3-4419-8881-f6874c9c857e': 32,\n",
       " '00014832-8b84-4aff-a561-29dd749f3a43': 33,\n",
       " '00015621-a573-4b9c-93b4-98733d62932d': 34,\n",
       " '00015b02-6c03-4235-94c1-880ddd98f2ba': 35,\n",
       " '00015d95-3f3d-4c5e-a26f-a0331506a35a': 36,\n",
       " '000161e9-74ba-4043-bf2a-e0dd30a18bdf': 37,\n",
       " '00016c85-9b73-4b68-80c3-baf1a973935e': 38,\n",
       " '00017f67-b0cc-4121-86be-fbde3548c681': 39,\n",
       " '00018057-9e5f-464c-8982-8008c744f6d2': 40,\n",
       " '00019525-0637-4df1-9529-2f3a18864d07': 41,\n",
       " '0001991d-7aa7-44b9-8d3c-9d5680891c6d': 42,\n",
       " '00019942-eb25-4a64-a077-f399f9fd5e6d': 43,\n",
       " '00019c20-0cd1-4097-b8af-dae0571797cb': 44,\n",
       " '0001aa50-bb70-4cb3-b66d-94343fb1dde9': 45,\n",
       " '0001b5da-3600-4586-8094-6e481542ba92': 46,\n",
       " '0001c91e-9a30-4e29-91e6-a50e151eb881': 47,\n",
       " '0001dc2c-e5bc-499a-bf3a-f4bb259c2b4d': 48,\n",
       " '0001e395-85e1-4c70-9492-2bbcdacf6023': 49,\n",
       " '0001e4c9-c978-4168-9967-ed41f731ea7b': 50,\n",
       " '0001f037-f2fb-4177-aa32-53e186543db1': 51,\n",
       " '00020653-8dae-4c17-83b5-4ffa698676dd': 52,\n",
       " '0002212c-eac2-4b5c-9a2f-ba3b336e9d45': 53,\n",
       " '00022525-c20b-49f0-b88d-4c93223f4141': 54,\n",
       " '000231a1-7c7e-4fca-bad6-af0a1b019778': 55,\n",
       " '00023b0e-55ec-4d72-b56d-d1acf877761f': 56,\n",
       " '000244de-30f4-43fe-8f5b-49eb1c301d92': 57,\n",
       " '00024893-6661-4f44-a7ec-bfcf2f94144e': 58,\n",
       " '00025008-bbf0-4192-b63d-b84b1dedc019': 59,\n",
       " '000254d5-880e-4672-9af4-25c6ad097f98': 60,\n",
       " '00026e53-4c8c-4e0f-bb11-e136f32950fb': 61,\n",
       " '000271e2-78e3-48cf-ba72-7592fbec0349': 62,\n",
       " '000272a5-01d3-47ce-a7f0-57be9031fe18': 63,\n",
       " '00028319-a7dd-41de-82c6-1d32c0be8df1': 64,\n",
       " '00028623-cc4b-443c-ac73-3684a835174d': 65,\n",
       " '00028d09-61fa-49c8-87b6-2afd891a26a8': 66,\n",
       " '0002bcc6-725a-4122-b78b-77c7f19f038d': 67,\n",
       " '0002c81d-ff30-4b42-9c3f-173896caf614': 68,\n",
       " '0002cc53-503f-4755-a631-827d74e0f267': 69,\n",
       " '0002d4b7-afb6-488a-8609-f7db6c21666a': 70,\n",
       " '0002dd6a-5485-4e97-8d2b-6b8b9c1563ac': 71,\n",
       " '0002e109-dc31-4ae8-af88-219b364df834': 72,\n",
       " '0002ec9a-b9ae-42f5-ab79-fb99715336aa': 73,\n",
       " '0002ed9b-c638-40a3-aad4-b3fb374db4ca': 74,\n",
       " '0002f76d-5caf-4d2b-aabf-6f8a17990cdd': 75,\n",
       " '0002fb57-2186-4841-99c4-8d48925a61ed': 76,\n",
       " '00030d07-c062-4b48-87fe-24ca433ab5bb': 77,\n",
       " '0003121f-0027-44ba-8b76-8ca24ba68b68': 78,\n",
       " '0003134a-56b6-4b68-b983-a4278fcc1ded': 79,\n",
       " '0003184c-225c-48a4-b7b7-627f71ddc06c': 80,\n",
       " '00031882-a42c-44e4-8f2e-35c584e86d4a': 81,\n",
       " '000329bd-b195-4b31-8f6c-0c33f37bebd5': 82,\n",
       " '00032b26-349e-45d9-b2b3-0b3b26dd7b1c': 83,\n",
       " '00033058-eea6-41b9-b67d-647179a9675c': 84,\n",
       " '0003325d-a413-4105-9cad-ecadc659d953': 85,\n",
       " '0003367a-9730-409f-bddc-9d9f5ac1a208': 86,\n",
       " '00033a65-1b81-4b7f-a802-244474ba0559': 87,\n",
       " '000341fc-e590-4297-adc7-821a63b70021': 88,\n",
       " '00034943-3564-4276-a8f0-82628eb35471': 89,\n",
       " '00035002-1db3-469d-9bef-5f8ebcd2a154': 90,\n",
       " '00035710-22e9-4d44-959e-fbb4f412e56c': 91,\n",
       " '000359e4-aec4-4f02-a1ed-24efa3e36bcc': 92,\n",
       " '00035d8d-72f3-46ec-8d2f-c84c9bb12d52': 93,\n",
       " '00036ad8-7f81-4d14-9c94-13ede367fe31': 94,\n",
       " '00037f9c-6d8e-4c7c-a4b9-6cb7d74c9055': 95,\n",
       " '00037ff5-8844-485d-b6d6-2973f5f9c264': 96,\n",
       " '000387a5-f055-45af-96b2-54357da6258b': 97,\n",
       " '000394fc-e553-4fe2-8786-bc2d4b6e8e95': 98,\n",
       " '00039b1b-2b25-4da7-a929-ea7412133371': 99,\n",
       " '0003a7e5-b578-40e5-a48d-f85eb8008924': 100,\n",
       " '0003aada-a26e-42b5-9abe-88a4133eba5c': 101,\n",
       " '0003acc4-91b4-49a9-97f3-abbf4f4053b7': 102,\n",
       " '0003afab-fd69-4834-b5e6-dc98574ed6cb': 103,\n",
       " '0003b0f9-1d2c-4ad6-9301-1f3360fb8aaa': 104,\n",
       " '0003b354-5114-4574-b5dc-590b70756f7c': 105,\n",
       " '0003b498-049f-472d-9cf1-8a8934289bcc': 106,\n",
       " '0003bddf-53aa-4b09-a5fc-951d45bc1518': 107,\n",
       " '0003cb20-1b08-4db6-ab65-485202499e84': 108,\n",
       " '0003dea0-d0a8-4256-9d8a-96442e872c63': 109,\n",
       " '0003e2cb-34d3-48e4-858d-6219be2809a3': 110,\n",
       " '0003e2f9-1b54-4c15-b099-86c537bd14fa': 111,\n",
       " '0003e5f6-dc9a-4ccd-9069-d78f2bcf0b99': 112,\n",
       " '0003f386-7c49-49e0-b888-03024295d296': 113,\n",
       " '0003f457-794b-4089-a0f2-730f462dae97': 114,\n",
       " '0003f4d6-a027-4e4e-9f0e-cccfebf7beae': 115,\n",
       " '0004080d-fa2e-45ad-8186-33621b1f27b4': 116,\n",
       " '0004203a-994a-428e-bf68-fa4f5e8794cf': 117,\n",
       " '000424c7-41c0-4cc5-83a4-269ceae3525e': 118,\n",
       " '000427cb-8049-4c68-9ea8-8f63a9b543e5': 119,\n",
       " '0004296d-6a40-4c1e-acd1-a04158dbee93': 120,\n",
       " '00042b6a-e3f6-4bd0-be6a-bd96adb138c9': 121,\n",
       " '000438be-3c28-4d5f-a9df-b07b5b04c208': 122,\n",
       " '00043960-7d7c-4c71-a695-29e0b7abe4ef': 123,\n",
       " '00043fd9-257c-41eb-a203-c75440276015': 124,\n",
       " '000442ed-e323-4b16-8c0f-05e02e7498fb': 125,\n",
       " '00044e82-4733-4f2d-b81a-ff63c16c6d97': 126,\n",
       " '000454c0-1e49-4449-adcf-2af0c0f16975': 127,\n",
       " '0004576c-5175-4b4f-bcff-9da4aaf5b015': 128,\n",
       " '000460ab-7321-46a0-aa6d-27f3a462abac': 129,\n",
       " '000477a1-61bb-483a-ac9a-4405f1c42ab4': 130,\n",
       " '000480c2-9831-4773-a905-68cd73463393': 131,\n",
       " '00048974-7e6f-45d9-9ec2-31fda58dd6cb': 132,\n",
       " '00049c5b-ce8f-4213-91d9-18b6f55ce336': 133,\n",
       " '0004ae96-a179-4282-86ea-0645ef6aa522': 134,\n",
       " '0004ba86-bad5-4872-a8b2-77f4e078db4b': 135,\n",
       " '0004c116-9474-4156-85e8-6610e2394f2e': 136,\n",
       " '0004c1ac-a7b6-423e-b38e-6a7df1976e2c': 137,\n",
       " '0004c795-fc60-4501-9fd4-5b690cd77fd3': 138,\n",
       " '0004d2cc-e74c-4315-b306-038285a77d24': 139,\n",
       " '0004d801-7681-42b5-b773-573c5bf81a54': 140,\n",
       " '0004dbd8-bab0-4a80-96c1-dc96288f6ae8': 141,\n",
       " '0004edc3-0876-487c-86ca-c9acd90a5c03': 142,\n",
       " '0004f07b-a4f3-47dd-9d40-ccf782b3a41b': 143,\n",
       " '0004fb60-790d-4ba0-8e90-7e4f56c685e5': 144,\n",
       " '00050c09-b40f-43a1-bb28-d4ffeba1e1d2': 145,\n",
       " '00052214-603c-4a55-a5ea-5ceafa11e3fe': 146,\n",
       " '000536e6-a5e6-434a-8db5-361c08961141': 147,\n",
       " '00053742-5dc5-4826-b0b0-0c705e6c896d': 148,\n",
       " '000538c8-adbc-41e0-a7db-31b146284618': 149,\n",
       " '00053d1c-3b26-4238-a30d-7c035543fddd': 150,\n",
       " '00053f0e-1bd2-4a70-9cf4-c08d67c38067': 151,\n",
       " '0005421a-9d4f-4dc2-b065-bc9d534da0d2': 152,\n",
       " '00054aa0-f8c6-43c0-b160-a2d26d42e860': 153,\n",
       " '00055e1d-ec67-4739-bf74-fe464157eaea': 154,\n",
       " '00055f40-ca38-4f8a-ba4f-b7148effedd5': 155,\n",
       " '000561dd-1485-4d6f-bdd2-39a7cfb4436a': 156,\n",
       " '0005657d-f63d-48db-badc-5ee1f5e8c3ff': 157,\n",
       " '0005700f-b558-4dca-a849-cc7b5710b272': 158,\n",
       " '000576df-7f6c-424e-99b4-004882d404d9': 159,\n",
       " '00058d96-4265-4804-b2e6-72d4be709407': 160,\n",
       " '00059390-3d10-4af6-b6f5-68e8cfae1f35': 161,\n",
       " '000598f1-ff7f-4180-89fe-b00d59cec5b0': 162,\n",
       " '00059c86-ce32-424f-8d6a-e3ee43462479': 163,\n",
       " '00059ce5-9664-49ae-93b1-aab1f1e1c89b': 164,\n",
       " '00059dcf-8b20-477b-9f10-c3a122e62c23': 165,\n",
       " '0005a77a-d335-4b7d-9c6f-18cedd85c66a': 166,\n",
       " '0005ac21-c415-4af7-abc3-986430c404c7': 167,\n",
       " '0005bad0-b1ae-4f77-94c8-0b2113e1e683': 168,\n",
       " '0005bb41-3858-48dc-839a-d3739ae621e0': 169,\n",
       " '0005cb54-a425-4f35-939a-3fd718a174a5': 170,\n",
       " '0005cd57-aac6-428b-b052-5937e0562118': 171,\n",
       " '0005ce14-0034-47ee-a072-7cc6d1c3f0d4': 172,\n",
       " '0005d236-ecc6-486a-a9bd-4c052d7c99c6': 173,\n",
       " '0005db8b-7e47-4a7b-bed1-517336db0f63': 174,\n",
       " '0005f036-0213-4ea3-9877-85bda419dd78': 175,\n",
       " '0006055e-b160-4b44-923b-0d1743210471': 176,\n",
       " '00060a6a-7daf-4cce-a7ab-2f81e6591e6c': 177,\n",
       " '00060d66-0892-4823-811c-3586f5175ce2': 178,\n",
       " '00060e51-5916-4829-90a6-e3fe16f80c0d': 179,\n",
       " '00061047-4445-4f1a-80c9-9b377622f606': 180,\n",
       " '000613e2-6f9b-41b8-9392-1f1cca08befe': 181,\n",
       " '000621af-3035-42c3-9a55-7e1aadb330bc': 182,\n",
       " '0006290b-5674-4ec5-b5b5-8d1978a306d0': 183,\n",
       " '00062e40-1194-4863-ab8b-6119400c9dbb': 184,\n",
       " '00064914-834f-429e-a635-21ae28712512': 185,\n",
       " '000652ca-cc43-48f8-9006-1c569e0470c3': 186,\n",
       " '00066367-f997-49c9-a724-bdd239a56248': 187,\n",
       " '00066abd-a827-4e6b-a61f-15c31fe7f996': 188,\n",
       " '00067772-3e68-4151-aa81-c38c5bd3d401': 189,\n",
       " '00067ea8-73c9-4f75-957b-4a6b6afa74a1': 190,\n",
       " '0006939a-40ee-4d9f-9262-b97cb2e93d34': 191,\n",
       " '0006a87b-28db-46ee-a57a-30752dc91ad6': 192,\n",
       " '0006afd2-aaf1-4a66-937d-d80ffc518e99': 193,\n",
       " '0006bbbb-3fb0-4cc4-aede-ec4e5d6de820': 194,\n",
       " '0006cb1e-13e7-4258-a5a8-084863efeba8': 195,\n",
       " '0006d61c-7913-40b1-b5ff-8977d059ec18': 196,\n",
       " '0006d921-38ab-46a5-b8cb-e89994099ff9': 197,\n",
       " '0006dd7b-d999-4cde-8522-2202a44b08a0': 198,\n",
       " '0006e845-0eab-4a76-bf0e-603508c7c825': 199,\n",
       " '0006e988-d24a-483a-84be-edb1d170b279': 200,\n",
       " '0006ed1e-2f8c-4cc6-83f2-db847faad6b2': 201,\n",
       " '0006f441-3d80-4b79-ad17-c50f15013efb': 202,\n",
       " '0006f577-07d7-4116-8486-a8ca2e955a81': 203,\n",
       " '0007015c-4d74-44cb-9e42-3d51704310fa': 204,\n",
       " '000708d7-8d68-4332-a6fa-fb380a6f0131': 205,\n",
       " '00071231-7a7e-4ce7-8915-a28d9ecb28ed': 206,\n",
       " '00071d4a-ee26-46fe-8ac8-f1e1c9e95a4a': 207,\n",
       " '00072fa9-2eab-4ff6-9972-128fde1caa82': 208,\n",
       " '0007601d-f3dd-4021-98fd-d94d081be68c': 209,\n",
       " '000773bd-7502-4347-ae39-1030c2677f93': 210,\n",
       " '0007882c-1318-4787-9fe4-3fefd54954ae': 211,\n",
       " '00078a88-2d27-45ad-a151-182d7eaa0f4b': 212,\n",
       " '0007b352-2cf6-47ee-8585-8cfc03ad3c33': 213,\n",
       " '0007c18e-457e-488a-83c3-56c8abb99c9a': 214,\n",
       " '0007d5a8-1c93-48f1-bc96-6936e82c087f': 215,\n",
       " '0007d8a6-c723-4e3b-9d33-fd02de50c14b': 216,\n",
       " '0007eedb-5624-4835-9a64-298db51a8a04': 217,\n",
       " '0007ef31-fa10-4b1e-9743-2210553147c5': 218,\n",
       " '0007f4d2-0760-4ed6-8ecf-acfbb1bd3c70': 219,\n",
       " '0007f884-800a-4a67-813f-eec6cd40232d': 220,\n",
       " '0007ff5c-c474-432c-8c75-692b68786410': 221,\n",
       " '00080010-8896-4487-aa91-4db79c35c21c': 222,\n",
       " '00080049-89de-4469-a23e-ab040b0ef629': 223,\n",
       " '000804d9-8df7-42ac-b7b5-1f454c3a7b9d': 224,\n",
       " '00080580-6128-4c88-8154-4d12e0e76e5c': 225,\n",
       " '0008107d-698f-44e0-82f1-c075a1d035e8': 226,\n",
       " '00081751-171f-4a16-94d4-b0a898abf4f5': 227,\n",
       " '00081a48-3cdd-469a-9459-32273c5cf11e': 228,\n",
       " '00082208-61f3-4dfe-8819-184fb93e1b49': 229,\n",
       " '00083075-38db-4c4c-bfa7-b91fd3d3687b': 230,\n",
       " '0008336e-2db3-4e35-be3d-36ae38c2c03e': 231,\n",
       " '00083844-3a1c-4f05-a1f9-15a23ffea0fa': 232,\n",
       " '00084cdf-7f83-4071-af6e-c1d330ca94e5': 233,\n",
       " '0008656f-3e85-4ba5-9651-2e7fecfe7044': 234,\n",
       " '00087878-9658-48d6-97bd-941560e4e5d7': 235,\n",
       " '00087c7a-17b3-41d2-aba7-8471a6143fc4': 236,\n",
       " '000887c9-890c-4fe7-9940-c4f8a1f48fa5': 237,\n",
       " '00088bc4-54e9-4b63-93e7-9a2c3cce3489': 238,\n",
       " '000899d1-cd27-4074-ac70-5a9ae963efc8': 239,\n",
       " '00089c7a-e85a-4a83-9e40-322adf2e4f4a': 240,\n",
       " '00089fa5-561b-4742-9d72-56f7250f1b41': 241,\n",
       " '0008a865-609e-4b23-9c07-f5b9720cef86': 242,\n",
       " '0008ad7d-8bd1-457a-a9b7-a8fc2fa3b5c3': 243,\n",
       " '0008adba-c0b4-45e3-821c-f336e372757a': 244,\n",
       " '0008be84-f44f-4a17-962f-5d1409268c95': 245,\n",
       " '0008c926-69c0-4fa2-8fcc-7eb9a7634ef0': 246,\n",
       " '0008c9e6-b4f5-492f-9e60-7638a7879972': 247,\n",
       " '0008ca84-0d65-48a5-9946-8d677661543b': 248,\n",
       " '0008f6c9-c2d3-4559-864b-9b1db8c856a1': 249,\n",
       " '0008fa4f-3c31-46a1-a5a2-eb1bed7071b2': 250,\n",
       " '000903cf-873b-4832-a09d-be52816fea58': 251,\n",
       " '000904be-c201-4272-837a-28bb8ff6a5b0': 252,\n",
       " '00090652-63aa-4e94-abce-6283af868bbc': 253,\n",
       " '00090fff-0737-4ea6-9fe2-3b8051db4010': 254,\n",
       " '00091a28-5fff-4453-ace6-4489d9491b0e': 255,\n",
       " '00092a5b-a616-498d-b9f9-caebd544989b': 256,\n",
       " '000931b7-3ef9-4e9d-a5cf-b498bca6e3c9': 257,\n",
       " '00094104-338c-4054-a94e-ed50e381a551': 258,\n",
       " '0009448b-017a-489e-a219-f68149705918': 259,\n",
       " '00094e0a-b485-4617-b369-0ca6d8b764a9': 260,\n",
       " '000967db-2ca0-4435-bb8a-683bcbe993ed': 261,\n",
       " '00096ace-baf4-4c79-b215-fded128f9a06': 262,\n",
       " '000974c6-5d2b-4e6d-8a00-381b0bd1ff0a': 263,\n",
       " '0009792d-889a-4bd5-a027-7c894c50fcb6': 264,\n",
       " '00098d11-b969-405b-982a-cf1deb2f8482': 265,\n",
       " '00099ad6-288b-4453-a67a-12558a37a574': 266,\n",
       " '0009a359-4bd9-4ced-b664-61f579e683cf': 267,\n",
       " '0009a44b-bcc9-4572-b449-76a6d2f63d52': 268,\n",
       " '0009b3a1-a1a3-4f14-a92e-9f95f30b4159': 269,\n",
       " '0009b442-434c-4e52-a6d4-5c59d84b29b8': 270,\n",
       " '0009c9ea-c046-4459-b815-9f2503d0b4f9': 271,\n",
       " '0009d094-2cb8-4d3d-a892-7bf3660883eb': 272,\n",
       " '0009d555-32ea-464c-8696-1e573e1c5bca': 273,\n",
       " '0009d685-3181-4b7f-be6b-24f161d94d40': 274,\n",
       " '0009dfdb-a4f7-4d83-bcc7-f5afd8a588f2': 275,\n",
       " '0009e37a-59cc-4f5d-b915-3c68fd5b9fc6': 276,\n",
       " '0009ede7-f1e3-4d50-9e9a-6be3c145dafe': 277,\n",
       " '0009f662-356d-4153-b73e-57930a6dd6fd': 278,\n",
       " '0009fd31-3705-4c9d-94b1-14399dd30c94': 279,\n",
       " '0009ff3f-4b4b-489e-9058-58692f71f335': 280,\n",
       " '000a0fa3-50df-43e7-ac01-14651dc61f1c': 281,\n",
       " '000a1070-2b5f-4af9-83f4-2aa233c26d4b': 282,\n",
       " '000a10e2-c868-482c-b798-9f8e14c57685': 283,\n",
       " '000a12d9-caec-4fde-b15a-47a4868f0dae': 284,\n",
       " '000a1535-8edd-4a29-bbb9-4b4a5f2f285f': 285,\n",
       " '000a1e62-b6bc-4876-84a2-c8d5079f70d6': 286,\n",
       " '000a2423-91fe-4484-8339-630262651211': 287,\n",
       " '000a2bba-3184-4667-a8d1-0ccfe72ed433': 288,\n",
       " '000a30ed-114f-4431-9b57-68f128a42884': 289,\n",
       " '000a33aa-d9a9-42f1-8828-77bf034d7eae': 290,\n",
       " '000a36e2-36d6-49ef-8fe2-81eaa71e6630': 291,\n",
       " '000a448a-b55c-42e4-9044-c2637e32e9c2': 292,\n",
       " '000a453c-0d66-4e57-a971-820cda31a0e0': 293,\n",
       " '000a74f6-fead-4719-914d-18000f5fb44c': 294,\n",
       " '000a7de1-a328-47f3-b98d-49a1368a372e': 295,\n",
       " '000a858a-d06b-4223-b785-28ea498d430b': 296,\n",
       " '000a8991-8364-4789-8e23-089f5a425631': 297,\n",
       " '000aa8b5-dca2-4a1a-81be-153f5a6f9481': 298,\n",
       " '000aa9a9-3f39-4bbb-894a-bff2ac5ee648': 299,\n",
       " '000aaa40-b3cc-414c-9e8f-15832b71b557': 300,\n",
       " '000aada8-e52e-47d4-8a36-1c37b6743573': 301,\n",
       " '000aadbb-0d1c-479d-97a1-81129987c575': 302,\n",
       " '000ab636-0345-4179-a624-bc9b4b102cff': 303,\n",
       " '000ab90f-934b-4fcc-92e6-fbeac1f58017': 304,\n",
       " '000ac883-54d3-4f5e-b1db-6b77d6221470': 305,\n",
       " '000ad2c2-0b5f-4ec6-90b0-d8543b366b16': 306,\n",
       " '000ae3f7-92e0-440c-aef6-382c741415d9': 307,\n",
       " '000ae6bb-13ad-45f9-8afb-7d6e91fc3945': 308,\n",
       " '000aeaa2-cd0a-4550-9d1a-313c8c5c8236': 309,\n",
       " '000aed53-59aa-4af8-a2e7-aa8dc2baff5d': 310,\n",
       " '000af030-13a2-4e68-b97a-20f806c49273': 311,\n",
       " '000af45c-ba0a-45fa-8c64-7ac35a65ac54': 312,\n",
       " '000af728-02ae-472f-9b97-742892eaafe8': 313,\n",
       " '000af839-b80e-4804-971e-23ffa25e2ffd': 314,\n",
       " '000b0331-2dbe-4117-8da1-a887547b3819': 315,\n",
       " '000b05ad-702c-4033-9466-e87430c7afe4': 316,\n",
       " '000b0d62-d218-4487-8657-514dca721e4b': 317,\n",
       " '000b0ed1-5444-46e6-b19a-90010cde84c4': 318,\n",
       " '000b1ca9-823f-4311-aef9-bc6e78298a7b': 319,\n",
       " '000b52b9-7b02-4d8f-8547-20b4bd34e39e': 320,\n",
       " '000b648c-3f99-4295-9159-48e7aecdd313': 321,\n",
       " '000b69e8-2f1c-4765-8bf4-14aaf25a52b9': 322,\n",
       " '000b7504-019e-48ed-81ac-256cc1e294b3': 323,\n",
       " '000b812b-220d-4b4c-a55c-fa4ea1d4a091': 324,\n",
       " '000b9ea6-b302-4922-b570-4824fc549ce2': 325,\n",
       " '000ba6d3-0698-476f-b114-820268de5cb4': 326,\n",
       " '000bc6fe-1b93-42ee-9c9a-bc68084f331f': 327,\n",
       " '000bcd2b-b945-4574-966c-7ef4354773d7': 328,\n",
       " '000bdb6e-57d6-4a42-baff-8e1f801d79ff': 329,\n",
       " '000bdc4a-1f6b-48aa-85aa-2e545ec968f3': 330,\n",
       " '000be6c3-60c1-40b4-b298-6b0170397746': 331,\n",
       " '000be749-7c0f-4e5d-a9a3-8c44f7f1e947': 332,\n",
       " '000bf5c7-fffe-4f39-b2c1-f371a28c50e3': 333,\n",
       " '000bf60c-88b1-44b4-bc10-012bfe4a3337': 334,\n",
       " '000bf885-5534-420c-a7db-062e5e289274': 335,\n",
       " '000c0cf5-c62c-4349-94c9-5ea3ce955de9': 336,\n",
       " '000c197d-dd1d-4a0c-84ae-5841193306ed': 337,\n",
       " '000c24e2-96c2-4751-b86b-1fba11fbfd3f': 338,\n",
       " '000c2547-62d2-408a-8ca1-42ef4ccbde29': 339,\n",
       " '000c2720-5ce2-432e-a346-1f68c73b2c40': 340,\n",
       " '000c28b3-7dda-4341-8889-0faa8f5a41bc': 341,\n",
       " '000c2d71-852f-4514-8311-89e3e225fda6': 342,\n",
       " '000c55c5-6f8c-4d40-bd9b-d14e801ab92b': 343,\n",
       " '000c574d-4133-4092-8169-0646d75c1a57': 344,\n",
       " '000c63f3-de59-492c-b6fa-8af6eae98735': 345,\n",
       " '000c664c-48bc-4dbf-a166-5db6534d8e59': 346,\n",
       " '000c717a-ed58-4d80-8fca-48433d6cc82e': 347,\n",
       " '000c7839-4813-4445-b6f5-1c6ad311ef01': 348,\n",
       " '000c7841-f4e9-44e4-8261-2241d7f6e26f': 349,\n",
       " '000c784e-3148-404f-a60c-c32b87602a05': 350,\n",
       " '000c78e0-ce15-44f5-8b13-7a0a5f0fb6ba': 351,\n",
       " '000c7aaa-0d64-4d95-898e-02b6bef7e7ad': 352,\n",
       " '000c850b-f241-42b5-82d2-dd0b312a548b': 353,\n",
       " '000c9062-2db3-48e1-a836-f527c6467808': 354,\n",
       " '000c9e07-7184-47c4-ad05-88e7aec74e63': 355,\n",
       " '000ca067-3988-4044-b101-9a53d4f8d36f': 356,\n",
       " '000ca4e7-6a61-402d-82c8-56b4f8f83df5': 357,\n",
       " '000caa93-32a1-4187-a01e-035f2a44038e': 358,\n",
       " '000cb5ab-c79e-447c-92c8-2cfa48e0d13a': 359,\n",
       " '000cb8c5-b18c-40ce-99ca-93738ca521a3': 360,\n",
       " '000cb905-18b5-4d82-b021-bf93ac58dc53': 361,\n",
       " '000cbbbe-d33c-4c61-8faf-1f156cb644c8': 362,\n",
       " '000cd1b1-dc85-4463-8b21-2d8b9b7f418c': 363,\n",
       " '000cd385-43c2-4129-ba5c-53dbe31b8a06': 364,\n",
       " '000cd5f1-9c17-4fb0-8468-3aa95abf5f02': 365,\n",
       " '000cefd0-7d37-4e40-abb6-dd6885386be9': 366,\n",
       " '000d2980-bf88-463e-8a71-4e550a0b81c2': 367,\n",
       " '000d3351-754c-4a3e-9529-571c0527e85c': 368,\n",
       " '000d3b18-344b-434b-ad54-77e8f771de04': 369,\n",
       " '000d4546-8e80-4e2a-bc56-d10381b44b74': 370,\n",
       " '000d4591-2759-461a-a242-dd01f99ce777': 371,\n",
       " '000d4ce3-feff-4c16-9aa0-69340010d955': 372,\n",
       " '000d52cc-d350-4e80-97e9-43dcbbfae51a': 373,\n",
       " '000d6fe6-d976-4222-9b51-a9a46b171aaa': 374,\n",
       " '000d7dab-ade5-4d28-ba33-a63b78453257': 375,\n",
       " '000d80b3-057a-439b-9f2a-be09807ce5c2': 376,\n",
       " '000d9090-4a7e-4ff4-b439-b8c7696040f7': 377,\n",
       " '000d9eff-5195-4318-bca2-3eff23fdeef8': 378,\n",
       " '000d9f1e-ca32-4935-8674-87266c50ece7': 379,\n",
       " '000da1d4-88f5-4738-8655-dae4c9a3edcc': 380,\n",
       " '000dadfb-39de-49ed-9a95-55bc0f9e6afd': 381,\n",
       " '000db988-c625-48b8-8449-434108eaf939': 382,\n",
       " '000dbb56-201b-4508-bebb-3447b11d1bbf': 383,\n",
       " '000dc481-6709-4a83-a547-25e875e12536': 384,\n",
       " '000dc7c9-51bf-425a-acd5-8f7ee6f35e29': 385,\n",
       " '000dddb5-7fd3-4837-976d-d4ac2e4559ac': 386,\n",
       " '000de26c-35b2-4e22-a28f-6c54c168b09e': 387,\n",
       " '000de28f-7200-4440-a439-752996bc85d4': 388,\n",
       " '000de919-8e80-457c-941c-8b498d708a97': 389,\n",
       " '000dea72-c782-4ecb-ba69-72030104db82': 390,\n",
       " '000df54e-363a-42e1-8496-286df93e4198': 391,\n",
       " '000dff59-3444-46cd-b83a-bfe5ceb1f187': 392,\n",
       " '000e0e78-afb6-4d0c-874c-0542bd30873e': 393,\n",
       " '000e13ed-a4f2-4f64-8147-2d82d2e39e72': 394,\n",
       " '000e1636-0260-4805-8ee9-bcc5dac8f073': 395,\n",
       " '000e231d-eee9-45b0-aa53-0a7f4d23f60a': 396,\n",
       " '000e2abd-ec31-47a8-9b1d-23b3c385ee87': 397,\n",
       " '000e3afa-ddbd-40e9-b9ad-eaf8712a5113': 398,\n",
       " '000e3d1c-b107-434b-ba4a-8cb5879ad832': 399,\n",
       " '000e492c-5317-4cbc-8657-4a6bb6b86235': 400,\n",
       " '000e5bc8-ee36-4c9c-a428-2be6a32d8837': 401,\n",
       " '000e5ccb-1586-478b-ab9c-1927850d0556': 402,\n",
       " '000e5e6d-966e-4c01-b145-3dbb2dc2dfd1': 403,\n",
       " '000e6aa7-2643-44f6-9af8-54032d325805': 404,\n",
       " '000e72ea-7795-4842-b48e-eded92ce5d45': 405,\n",
       " '000e8b6d-4628-423a-ba69-7e84a8dd0e74': 406,\n",
       " '000e9dd9-56fc-4873-a75f-c99e93dd3ce9': 407,\n",
       " '000eaaec-a363-4749-ba06-e8c317e9bc8b': 408,\n",
       " '000eacbb-25c4-4485-a0f4-7537a3fa8b06': 409,\n",
       " '000eb271-6960-4a42-bc05-f144847a7352': 410,\n",
       " '000eb651-28df-4332-ac4d-8cc9c4e36ff0': 411,\n",
       " '000ebd02-3f6a-4bb8-a4de-5f8bb838c2c5': 412,\n",
       " '000ec011-d6c8-4797-9b8e-ae9d7c6c0f6c': 413,\n",
       " '000ec3ba-80e2-4b74-bad2-e9cb33b4a90e': 414,\n",
       " '000ec643-3696-4722-a9fe-9adf6190a819': 415,\n",
       " '000ec7d3-2e7d-4b10-909f-38eabee5853b': 416,\n",
       " '000ecac1-0f03-42ab-abb3-56de0c484d3f': 417,\n",
       " '000edd90-01f2-4e00-98fe-e4d9795af8c7': 418,\n",
       " '000ee9ac-ad41-4ed9-a804-96befbacb22b': 419,\n",
       " '000ef102-249a-40ff-9850-e05a2c9cf262': 420,\n",
       " '000ef490-cd05-4f11-93ca-d2d721076fe1': 421,\n",
       " '000ef677-2407-4a2d-9f3f-cca529a024ed': 422,\n",
       " '000ef72a-7d43-4044-ac11-a8331e24a68d': 423,\n",
       " '000ef99c-f100-4327-b786-37a75f6393b8': 424,\n",
       " '000efa4d-46e3-4816-877d-44ffe34048c4': 425,\n",
       " '000f0305-2f13-48ac-9db2-1f4b9a9f41cf': 426,\n",
       " '000f0763-6add-4ab0-a17e-f30451d4b5b7': 427,\n",
       " '000f168f-eb20-43ba-91ac-4a60eeda748d': 428,\n",
       " '000f2425-0320-424a-bda0-458f34a51a8e': 429,\n",
       " '000f2e7c-5bb7-4fe0-b084-1cb6678cbe0d': 430,\n",
       " '000f2ead-854a-4a74-823a-9187d910960f': 431,\n",
       " '000f3a90-27d2-4f18-add9-f4a9b904ede1': 432,\n",
       " '000f3e99-bfb6-49aa-b401-6363f1755cc6': 433,\n",
       " '000f4628-f972-4e57-a348-f04a601ec51c': 434,\n",
       " '000f4eb1-76be-42d5-9021-7ad83971f425': 435,\n",
       " '000f50c9-640b-4d81-9df2-724a3edc09f0': 436,\n",
       " '000f5316-87f0-4ebf-9d3e-38e83a4fd3a9': 437,\n",
       " '000f64a2-6c6e-4eea-939c-1f76d9e1b90e': 438,\n",
       " '000f7011-0632-48b4-aeea-206ec85d1ae5': 439,\n",
       " '000f7b81-40e4-4fdc-8e1b-37cfd1062826': 440,\n",
       " '000f7d85-f94d-424f-8084-53c80b8f7ee5': 441,\n",
       " '000f7ee7-ccca-4f04-a940-222df635b205': 442,\n",
       " '000f86fd-b820-4e69-8122-45abd4580fdd': 443,\n",
       " '000f9d51-2678-4a59-bdd9-6395aef3d4b7': 444,\n",
       " '000fad4d-dfdd-4c81-a564-c5ae0cd7b23f': 445,\n",
       " '000fbfed-6249-4a5f-8033-d52ef031ca34': 446,\n",
       " '000fc7b2-7490-4a93-bb61-42120e4b8fd9': 447,\n",
       " '000fcaa8-bc35-4c84-a8e7-0778eaeae3e0': 448,\n",
       " '000fd823-bf93-4fb0-903a-91728babc400': 449,\n",
       " '000fdc54-7738-4400-9411-568cbad70a33': 450,\n",
       " '000fe8ad-f573-4705-93ff-c651f973c665': 451,\n",
       " '000fee5b-1796-4767-a7bd-b3f17cfc9035': 452,\n",
       " '000ff78c-3426-4d83-a8bc-7c3ee061ecf1': 453,\n",
       " '00100c8f-95e6-47f2-956b-7b613dac006a': 454,\n",
       " '0010109f-ec7f-4e08-8043-10b00da4b5b7': 455,\n",
       " '00101844-afc0-4ab7-8028-702053ee1097': 456,\n",
       " '001019e3-71f0-4f2a-b521-fb60c7f46aac': 457,\n",
       " '00102e09-5d6e-4497-94af-adea8760380b': 458,\n",
       " '001036c8-7c20-4557-bcdf-ea03380c9622': 459,\n",
       " '00103ea4-b7ed-47c2-b12f-ffa0963b1d84': 460,\n",
       " '00104229-c116-4e1d-94de-43f47b3129b0': 461,\n",
       " '00104253-214b-43f8-90dd-9f5208f5d203': 462,\n",
       " '001047ee-e538-492a-8333-b6cdcae06a69': 463,\n",
       " '001049b7-8b49-4fba-9480-8d7e76b19b9e': 464,\n",
       " '00104d07-743e-4c75-b1fb-2cc6654db7f6': 465,\n",
       " '00105047-177a-4132-9bf0-725424b46448': 466,\n",
       " '00106bf2-0d06-4298-b108-6ea4be71f718': 467,\n",
       " '00107970-adef-4e9b-9869-80bb923a5693': 468,\n",
       " '00107b47-f7be-443f-8058-847752d8d5c6': 469,\n",
       " '00107ed9-d76c-4500-bab8-1fdbbd8ecd64': 470,\n",
       " '0010875c-6e2c-4d4f-bd9d-599d29306bb2': 471,\n",
       " '00108796-f23b-4971-adee-a35eff40fa9a': 472,\n",
       " '001091cc-49f9-4869-af15-492b29444720': 473,\n",
       " '001094bd-d1ea-4661-b3f1-a84fe31e08db': 474,\n",
       " '00109f91-d52b-4f66-a639-0c3b6efeb26b': 475,\n",
       " '0010a73e-6be8-4532-84ac-708aeaa1cf74': 476,\n",
       " '0010af1e-8da2-4ece-bc56-f61d5bf070ad': 477,\n",
       " '0010b1be-9f6d-4d90-9c49-e9ee37f545ad': 478,\n",
       " '0010b6ec-536d-4a11-ab08-270ffc59b537': 479,\n",
       " '0010c263-55fa-4d7b-a929-fc7305d332a9': 480,\n",
       " '0010d168-2624-48a7-9ec0-e44c265f81d6': 481,\n",
       " '0010d25b-1a23-46a8-9598-1720fda857b6': 482,\n",
       " '0010d6b8-2ad2-436b-88fa-c11dc1f811e5': 483,\n",
       " '0010d888-17ed-45ee-af5e-c890aacd4385': 484,\n",
       " '0010e635-ca7f-4b9e-a94e-9cac9e0890db': 485,\n",
       " '0010f040-f3d5-492e-a5a3-deab8cf06e94': 486,\n",
       " '0010f863-3839-49b2-a960-465322675a1b': 487,\n",
       " '0010fccf-9523-4fcd-b9a5-df8d71fc6c35': 488,\n",
       " '001128d9-64f3-4942-8bb0-310b4da9e741': 489,\n",
       " '00112c2f-7c87-4110-a6cf-2a7cb8832b28': 490,\n",
       " '00113152-d59c-48fb-b8e5-1737c3d9388b': 491,\n",
       " '0011417f-a091-4f9b-aca7-1c6b7de37887': 492,\n",
       " '001146c1-2564-47e2-9634-597c98924d4f': 493,\n",
       " '001160ba-ac5e-4cd0-aa39-307de4e12fcf': 494,\n",
       " '00116179-6295-4dda-9afd-9b30f8259a1f': 495,\n",
       " '00116328-0c2a-4a8b-b11b-cae6c80fa99e': 496,\n",
       " '0011686a-2b0c-49a8-9b90-cca4ccd30fb4': 497,\n",
       " '00117115-2623-4ccf-9e0d-8f3ab447c9e7': 498,\n",
       " '0011733a-a190-4c79-bb81-019a731de5d4': 499,\n",
       " '00117509-a551-4be5-a266-c48164b49d57': 500,\n",
       " '00118980-adc2-4ffc-9f7c-4c3917add3f1': 501,\n",
       " '00118a78-bb60-4fda-8bb8-fc6fc1cb1237': 502,\n",
       " '0011964f-2230-42df-8f9c-ceec62f5970e': 503,\n",
       " '00119a4c-ea89-4eb0-acc3-be695958951e': 504,\n",
       " '0011a34b-cadb-47cd-a403-bb55c2353b34': 505,\n",
       " '0011a572-509e-4e56-a227-ed28e67789f3': 506,\n",
       " '0011aa82-7326-4765-ba50-a04d7483b087': 507,\n",
       " '0011ad9e-42c2-4d5d-8a00-dcf9cee027e4': 508,\n",
       " '0011bd7f-5cab-4520-9af1-da3ea586f5d0': 509,\n",
       " '0011c48e-063a-4ac2-998c-4efd6f6cafbe': 510,\n",
       " '0011c51f-443b-4d6c-aadb-b369c06d1c0f': 511,\n",
       " '0011c809-6ea8-4b53-9e96-85358ff70a8e': 512,\n",
       " '0011ccf2-63f4-4342-92c1-641f9040df68': 513,\n",
       " '0011cdbd-b469-4930-8db8-4262af640918': 514,\n",
       " '0011d6f4-ef04-49f8-a1ee-0419563f440c': 515,\n",
       " '0011ddea-446f-4e93-b8de-94d11db223c0': 516,\n",
       " '0011eb42-60c3-47dc-a145-ffc0f5deded2': 517,\n",
       " '00120ae2-29a1-47ea-8eed-105724e2e12e': 518,\n",
       " '00120fc0-e303-457b-9875-5d3b43a1a7d6': 519,\n",
       " '00121196-6d3e-410a-98cf-42d2ab2e0474': 520,\n",
       " '0012191b-fae0-4a0f-b444-dabbdfbf6748': 521,\n",
       " '00121bc1-360c-4b71-a3fd-af8b768ecbe3': 522,\n",
       " '00122040-8ef7-4289-986b-d81910265be5': 523,\n",
       " '00122424-015a-489c-ad22-b335016856f5': 524,\n",
       " '0012244b-19e0-404c-966f-01758a3918ee': 525,\n",
       " '001228cb-a738-4624-964c-182c8ad5e0e9': 526,\n",
       " '00123be5-1790-4287-b050-ea02b0d3eb76': 527,\n",
       " '00124ca5-ab74-4357-837e-7665f98480ad': 528,\n",
       " '00124e89-d711-4842-9e26-f21e79b87ae6': 529,\n",
       " '00125704-7ac1-4b5b-b6f5-c771092e1d55': 530,\n",
       " '00125ce7-929c-461a-bd21-20b6b6025b98': 531,\n",
       " '001262e8-a13d-4b2f-9a51-3e12bd1ecc7f': 532,\n",
       " '0012663c-ace8-4043-b855-39cb11fd7554': 533,\n",
       " '00126ec1-d840-4344-bb30-8ffa51ae7242': 534,\n",
       " '00127005-0dee-445e-abf5-bb3eb7ee3e3c': 535,\n",
       " '001271ed-0ffd-4426-b16c-7e5deace2d94': 536,\n",
       " '001287ca-afd6-4d71-a704-939d565c23ff': 537,\n",
       " '00128b76-c318-4568-871c-95c719fc3fdb': 538,\n",
       " '0012ab96-a67e-4f00-b587-2107a8913fae': 539,\n",
       " '0012b329-72bd-4ab9-b069-9ae72c9c87ae': 540,\n",
       " '0012b9b8-4e48-4500-9f93-1e6645d38e66': 541,\n",
       " '0012ba17-ae82-471a-95cb-337860ab9fdd': 542,\n",
       " '0012bf16-bf67-4ea0-bbf0-58581b9b8b23': 543,\n",
       " '0012c59c-fd27-474b-9d60-277ca93f3034': 544,\n",
       " '0012c88d-f28d-460f-bce6-b66a2bcb9f79': 545,\n",
       " '0012cae5-dbd3-46cd-a71a-6ecd87bf5b89': 546,\n",
       " '0012e5d7-5359-4953-8f63-1d3e0283eea6': 547,\n",
       " '0012f082-223b-4a1f-bb2a-7a0807d20ea3': 548,\n",
       " '0012f2de-4009-4ffc-bc12-8c2075459304': 549,\n",
       " '00130481-b4f8-4a1b-8ea2-16997723a36c': 550,\n",
       " '001306c4-793a-4b93-bfc9-1f45228a8d3d': 551,\n",
       " '00130f08-34bf-40e8-90f6-6c4722d1d625': 552,\n",
       " '0013185f-a29c-42a3-933d-278ad52233ba': 553,\n",
       " '00132081-ea8b-4d47-b963-b5b438637fb8': 554,\n",
       " '00132703-e4f2-4113-bb48-27f9cdf66fec': 555,\n",
       " '00133351-89e3-42c9-ae4b-0fcc15f457ea': 556,\n",
       " '0013374f-bad2-4c94-9ab6-1b235547a3d3': 557,\n",
       " '00133e29-d8fb-4d2b-9b5d-b004561c769d': 558,\n",
       " '001340ae-5d47-45e5-8b8a-63c0b33d292b': 559,\n",
       " '00134342-a7b4-4b16-9d6d-d922e0b23489': 560,\n",
       " '001348a9-69b1-4c46-90c5-856230d0c889': 561,\n",
       " '001349e0-6c86-4ebd-a8bd-1ce13e7df8a8': 562,\n",
       " '001355fe-a74a-41d3-a4cc-20371a0d2168': 563,\n",
       " '0013561b-067c-41c8-bcaf-fa23c200356f': 564,\n",
       " '00135fa0-891d-45cd-b160-b6dff3120d7c': 565,\n",
       " '001365b1-94eb-477b-ada2-50096adb9349': 566,\n",
       " '00136e26-85a6-4fce-a825-06c1c755b947': 567,\n",
       " '00136fe7-efac-4c14-ba2b-7ae50e0bb547': 568,\n",
       " '00137949-9011-44e7-bc09-a6fb99ca2ee8': 569,\n",
       " '00137d49-a462-49b8-af96-7c54eb13e35c': 570,\n",
       " '00137e75-fa11-469e-8167-88f98a0aa068': 571,\n",
       " '00138258-6964-47c0-9e1f-13c7178605cd': 572,\n",
       " '00138521-40b9-484d-af56-ab96df002f43': 573,\n",
       " '00138842-7673-48ee-ae99-a32ede198bf4': 574,\n",
       " '00138e68-6850-44e5-b829-65a5bb255147': 575,\n",
       " '0013a09c-3bc0-41b4-93df-9f7760425798': 576,\n",
       " '0013a1f9-ab7b-4f0a-90a1-e0204cee2b0f': 577,\n",
       " '0013aef9-b068-4e8c-91b4-0da4200f0045': 578,\n",
       " '0013b714-1277-44d2-94bf-c53742d33b47': 579,\n",
       " '0013b994-9e17-4bed-849c-a2bac65528dc': 580,\n",
       " '0013be67-ac46-4bcc-a185-bbb4104a3309': 581,\n",
       " '0013beb8-e4e0-4aff-a418-9c178878267a': 582,\n",
       " '0013c968-b74e-4e01-86be-5f1bbee3a34a': 583,\n",
       " '0013db49-13b6-426e-b9cf-136d5e049b6d': 584,\n",
       " '0013de87-ea83-431a-b1fe-00a50a1179e8': 585,\n",
       " '0013df76-b424-418b-b1b1-e6e00573ef27': 586,\n",
       " '0013e182-c44f-42dd-9a64-1f0d169700de': 587,\n",
       " '0013e851-6b17-403d-ae46-0c1c58716dd8': 588,\n",
       " '0013fa67-5d06-4620-b500-48502ae47b94': 589,\n",
       " '001421be-c6dd-4b57-890e-3102b62144c1': 590,\n",
       " '0014229c-dfac-4221-9119-edeaaa802958': 591,\n",
       " '00142477-032f-4a1d-9d50-bc4e09febd55': 592,\n",
       " '00142823-a0db-4b55-af5c-08b01e338b83': 593,\n",
       " '00142cbb-0caa-45b7-a5e4-63989f9912de': 594,\n",
       " '00142d1c-ad7a-4c61-95e8-903f3af08d86': 595,\n",
       " '00143f38-0a80-4be5-ab4c-ea6505906397': 596,\n",
       " '00144365-395c-4493-990d-020ef3b2ee8b': 597,\n",
       " '00144785-0087-490c-b4af-5de66305f460': 598,\n",
       " '001452d7-e4f6-47ae-8121-86017328fcea': 599,\n",
       " '00147c01-100c-44a1-8aa4-760c8ede5e42': 600,\n",
       " '00147e9c-8846-46be-86e0-f1a1453d5450': 601,\n",
       " '00148009-05a4-4439-abcb-598b20aad3f1': 602,\n",
       " '00148ab7-7dba-4dcd-896c-9eaddbcc840b': 603,\n",
       " '001497f0-4277-4e22-9bb9-d99b2583f741': 604,\n",
       " '0014a216-f1dc-49d9-b603-b1ffc6be9275': 605,\n",
       " '0014a5cf-8bbf-44ff-946d-0031cf7e2710': 606,\n",
       " '0014d2d2-c9dc-46c8-8040-df5e42b7a7b8': 607,\n",
       " '0014d66a-1a1d-4f31-abcb-dad2e4ea4ae6': 608,\n",
       " '0014dd2d-d069-4232-ad18-a420e2f9398d': 609,\n",
       " '0014e837-b62d-4028-bc54-539e80d46008': 610,\n",
       " '0014e876-8b5f-4f73-b4a4-4581f22da278': 611,\n",
       " '0014e8c0-c3bd-48b3-9254-809e54c13869': 612,\n",
       " '0014f463-9272-49fb-9429-d25a9eaf1add': 613,\n",
       " '0014f8c8-d1f3-46c4-a703-7aa0f5ec535c': 614,\n",
       " '00150134-2895-46f1-9a7a-70d3f6219754': 615,\n",
       " '00150154-c796-49e8-bec8-e9c7319e1197': 616,\n",
       " '00150422-f8a3-4398-9d49-1853a6f2c023': 617,\n",
       " '001505df-7b92-475b-9c10-59b6f2340055': 618,\n",
       " '00150721-ff8e-401f-8dfe-e8ab712d870f': 619,\n",
       " '00150adf-2ce3-43c1-bc4f-be51b6464a9f': 620,\n",
       " '00151e2d-fb46-42dc-9fe6-cd450176f1e1': 621,\n",
       " '00152b05-e96f-4485-9b94-da27e8a22296': 622,\n",
       " '00152ca3-fe13-4290-abd5-c5c1211b385e': 623,\n",
       " '00153526-9473-480f-9570-9d3bc739845b': 624,\n",
       " '00153824-5153-4f5e-a663-dd87a1912093': 625,\n",
       " '00154393-7664-43bc-a948-f74fb7b6906f': 626,\n",
       " '0015456d-aae8-420e-bf32-4a42d5591157': 627,\n",
       " '00154d65-fa37-450b-9253-42878dd4203a': 628,\n",
       " '00155b04-5967-4dea-8cf2-d7fe5e8c6438': 629,\n",
       " '00155ec0-188b-4e79-a622-07670203c637': 630,\n",
       " '001572f2-6920-4dfb-8a0c-25552ae65ec7': 631,\n",
       " '001572f8-cfab-4205-829a-cc8494526213': 632,\n",
       " '001583f7-f6be-48b0-8e17-33f21557731e': 633,\n",
       " '00158cc1-d81a-4672-909f-38dd74764693': 634,\n",
       " '00158d56-cc19-4885-a4da-86673acb549f': 635,\n",
       " '00159078-5de7-41ca-88c7-51721a43a3ca': 636,\n",
       " '001590a7-ca33-478d-b7b0-afd7c9fba785': 637,\n",
       " '0015a033-520e-424a-8088-cab85b2c36cf': 638,\n",
       " '0015a1ee-9bde-4301-9ad3-2a6ae3d60cc1': 639,\n",
       " '0015a627-7d56-4a3d-8fba-57f6b0e40e61': 640,\n",
       " '0015b57e-25b1-45a5-bfe6-326836e58035': 641,\n",
       " '0015c45b-7d07-4642-96f1-140f1eb55600': 642,\n",
       " '0015c97f-c66e-454c-a674-91605016ec66': 643,\n",
       " '0015d7c1-4b27-420e-bd77-30da90bbbd06': 644,\n",
       " '0015db25-9793-4824-a7fd-962419518c9f': 645,\n",
       " '0015dce6-04ce-4509-b845-8263e737b517': 646,\n",
       " '0015dfa1-7fe5-48d8-9d50-196fd8acc263': 647,\n",
       " '001602ba-88ff-4f0e-8a9e-53090d60b13b': 648,\n",
       " '00160ca5-88d5-48e9-a493-58a0aff2827c': 649,\n",
       " '00160f2a-84b3-4bf0-ad24-7d7991429389': 650,\n",
       " '00161524-d91d-4c1c-8e15-aa5a5039cbf1': 651,\n",
       " '001630c0-f471-4c0b-96be-df395c03d539': 652,\n",
       " '00163e87-8647-45dd-ad5f-add998212180': 653,\n",
       " '00164ba3-fec3-4bf8-9163-d6d8db786e9f': 654,\n",
       " '00164c18-e4d7-4c32-a08c-7927adaf7054': 655,\n",
       " '0016665b-08d9-427a-874e-505305a70a9c': 656,\n",
       " '0016731b-7569-447c-a717-33b44a3b408b': 657,\n",
       " '001673f8-43ea-4657-96f3-fa4a55715215': 658,\n",
       " '00167bca-4b82-4b73-921c-acd88b56e508': 659,\n",
       " '00168c24-d3db-4b5e-af34-0cc17c0a0de1': 660,\n",
       " '00168e4c-3c3d-43ed-99a3-a6b461635910': 661,\n",
       " '00169166-4260-4685-96ca-4c7bef88f7d6': 662,\n",
       " '001691fe-7cfc-43d6-9694-20e6be2c711e': 663,\n",
       " '0016959b-99da-4395-9f1a-8a074a6cb87b': 664,\n",
       " '00169888-a6db-4104-8228-3e87550cbe52': 665,\n",
       " '00169ede-d4f4-4257-aaa5-80de84e01353': 666,\n",
       " '0016a4f3-c916-469f-82ab-5cc3586c5617': 667,\n",
       " '0016aa25-0f76-4684-abd8-59a247084c72': 668,\n",
       " '0016aa58-f90e-4d22-8441-c34497e6ea06': 669,\n",
       " '0016ad35-b853-4022-a7a7-e7384a4e3315': 670,\n",
       " '0016b427-73c5-4df4-ab37-a0b47a49f78a': 671,\n",
       " '0016c557-aa5e-4fe3-9e58-942403a5a9fd': 672,\n",
       " '0016ce4d-541e-48ce-9c90-ff464a36398b': 673,\n",
       " '0016cf40-8fd0-4289-9bae-742a8b5b434f': 674,\n",
       " '0016d173-db22-4f33-a9a5-0bc1d81acf1d': 675,\n",
       " '0016d3f0-6db2-4345-a38d-5a51f035828f': 676,\n",
       " '0016e5c1-d7d1-4801-98bc-5d641d04e045': 677,\n",
       " '0016eb38-63d6-4014-805a-92f488e391da': 678,\n",
       " '0017050c-77e0-4ec2-9185-86ac7d951636': 679,\n",
       " '001707fc-d3d2-43d3-a9c5-63a56b20448f': 680,\n",
       " '00173055-b071-480b-b8cd-04073ccdb1dd': 681,\n",
       " '00173906-d25f-4a40-9130-7fe8cd01b4d4': 682,\n",
       " '00174577-dd7b-4256-9665-0deef51b640a': 683,\n",
       " '001745fe-22e8-4761-a7e8-9275b8f1093a': 684,\n",
       " '0017472f-8b98-4c31-83cf-2994a466b23c': 685,\n",
       " '0017511b-de29-4304-ab8a-a4d7c28ae642': 686,\n",
       " '001753be-49bd-43bb-a4e2-25d7a6c693f4': 687,\n",
       " '001773e9-c09e-4ceb-a54d-b4314ca613fc': 688,\n",
       " '0017748d-f29d-4672-a235-400225c7b239': 689,\n",
       " '00178296-6ba2-4dc1-8b19-3f3fff2440fd': 690,\n",
       " '001785f5-05e5-4bc7-a170-31974e16f508': 691,\n",
       " '001789c6-b36a-4c82-961d-9c8d13f72a3d': 692,\n",
       " '0017934f-a6b4-4822-9028-ebf769267641': 693,\n",
       " '00179a8a-8e88-4bb4-8a22-cd90831a01bb': 694,\n",
       " '00179ebf-1fc1-4650-939f-8f72ffe50323': 695,\n",
       " '00179eda-c651-4757-a192-ecd04334077b': 696,\n",
       " '0017a13a-3943-42da-bc08-bad39cb43c62': 697,\n",
       " '0017ae09-8fdc-476a-b91c-d3b8f31a00f2': 698,\n",
       " '0017b2c4-ed5c-424f-a30e-b1d08c2ffe6f': 699,\n",
       " '0017b471-d3d3-473f-93cb-6d2d9f8edcce': 700,\n",
       " '0017b483-edc8-44cc-a9f7-14b54b903fc9': 701,\n",
       " '0017c18b-576c-494c-a16d-8560f7406dd4': 702,\n",
       " '0017c496-d41d-4610-850a-175ace14d9da': 703,\n",
       " '0017ce84-eabe-4c71-9aad-1a8991c81769': 704,\n",
       " '0017db19-2312-4fd8-8923-ff4cb89c2f75': 705,\n",
       " '0017dbd4-11b9-4982-accd-4b998bf2d2db': 706,\n",
       " '0017e230-e734-4995-b9b0-82a113c4bb94': 707,\n",
       " '0017ea85-f827-4d4c-8fb7-6dde9db5d499': 708,\n",
       " '0017ed3a-e73e-4ced-ba2c-77554cd5c79d': 709,\n",
       " '0017f5c0-18e3-47d2-b996-b8f1b3956ebe': 710,\n",
       " '00180483-925c-4f24-ade2-611ce4d03569': 711,\n",
       " '00180594-5e97-4ddc-a78c-530d726da894': 712,\n",
       " '00180bec-047e-4e3d-a480-b0894b072027': 713,\n",
       " '00180ea4-965a-41b6-9991-37377429a0ff': 714,\n",
       " '001814f6-a58e-4dc4-a607-4761e28a0a7d': 715,\n",
       " '00181a45-ca29-4438-be64-af93b8794b0e': 716,\n",
       " '00181edd-16bb-447c-8118-4e8ab7f33d21': 717,\n",
       " '00182004-82e8-4796-961f-ecedd8ec16c3': 718,\n",
       " '00183f11-0322-46e9-b3bc-f18e5aaf8161': 719,\n",
       " '00184b6d-82df-454a-9228-b5fbe54808b8': 720,\n",
       " '00187ae3-0248-4893-82f4-ee0b324d235c': 721,\n",
       " '00187b25-bbe9-4281-a54b-2e96e1cad400': 722,\n",
       " '0018828d-a6c1-47a9-a6d7-577895d401f0': 723,\n",
       " '0018846e-daeb-4e9a-83f6-d011bfce22a7': 724,\n",
       " '00189260-a2ed-442e-ab36-238c00feb0ee': 725,\n",
       " '0018b941-8466-46e6-ab7a-68cfb5b0555a': 726,\n",
       " '0018c210-315f-41de-a459-61e956e487e5': 727,\n",
       " '0018c600-1c3e-4149-a875-cf6af5d03019': 728,\n",
       " '0018c8b4-62bc-4a93-9e76-c43b76d5f856': 729,\n",
       " '0018f1a2-ec57-4c71-a354-74548b4fec61': 730,\n",
       " '0018f779-9aa1-4cdb-ab95-2324eaef0b35': 731,\n",
       " '0018ff54-f96b-466a-b169-7e39d1658d87': 732,\n",
       " '001900b5-21c4-4bc2-8784-d3dfbf620b3a': 733,\n",
       " '001912db-c5cb-46eb-8ad7-3d3264e00ae1': 734,\n",
       " '001915df-63f6-4afd-972e-b9f5ea919e4b': 735,\n",
       " '001916a1-f1a5-4fb6-9129-e51e44ab4b4a': 736,\n",
       " '00193154-e27d-48d6-b22d-590c5f3efaad': 737,\n",
       " '00193867-8c32-4290-b1d0-ae68db72bccd': 738,\n",
       " '00193f81-0eb3-4d5c-8738-fd2266667ce2': 739,\n",
       " '00195507-8872-4cff-b800-8bce9aca1e7a': 740,\n",
       " '001962d3-75a0-4239-b723-2762531f3ca2': 741,\n",
       " '001963be-2e43-4022-a7c8-1360cd0df9a1': 742,\n",
       " '00196eae-3f8f-47cb-abab-53764a841c45': 743,\n",
       " '00197918-3ae2-4ac3-ae10-c9915fd83ed5': 744,\n",
       " '00198794-c0dc-435a-92ee-9fd3bd060cf8': 745,\n",
       " '00198dba-275a-4c9e-81ce-87f8cec22c6b': 746,\n",
       " '0019a66c-8dca-4e1e-bb21-5102bb92b12e': 747,\n",
       " '0019afa5-6e5e-4c91-937f-2f2c7639e8c4': 748,\n",
       " '0019cadb-48ce-45d4-9b82-9e48497c9ce7': 749,\n",
       " '0019cb25-190e-4e20-8363-39942c2e0755': 750,\n",
       " '0019ce3b-4be9-4be4-89d5-f8cc2cf43aec': 751,\n",
       " '0019d5b3-f1c4-4d85-97c0-e5a9953cad9c': 752,\n",
       " '0019ddab-4582-40c8-b6d0-0f9ba4e734fb': 753,\n",
       " '0019ee01-cba8-43fe-8e0e-c18fa0127dde': 754,\n",
       " '0019f6cc-f649-4613-8ab6-36f9d8942d2b': 755,\n",
       " '0019f8a2-cd61-467f-bdd8-1f6dd0c4fb60': 756,\n",
       " '001a00bf-c9a2-4e9a-854e-f5ec48d38c7d': 757,\n",
       " '001a1be6-998e-4bda-b461-8c1a8222418c': 758,\n",
       " '001a22a8-481e-4ffd-b098-7529f3f2cd90': 759,\n",
       " '001a25e0-bd61-4f78-bf93-3a8298aa09e4': 760,\n",
       " '001a2d35-03a3-4358-be36-1a64d33ee758': 761,\n",
       " '001a35f1-5f48-4680-b177-27bb4a7e9168': 762,\n",
       " '001a3b1c-d98c-456e-b01e-53a5922afe41': 763,\n",
       " '001a42f3-b75f-4eec-b61b-206ec3ff3541': 764,\n",
       " '001a48af-b1c7-4483-976e-489a52865a5d': 765,\n",
       " '001a4fcf-1da1-48b9-a479-3f987c199a4c': 766,\n",
       " '001a5f5e-4630-4d9b-a103-0cc045cd6c00': 767,\n",
       " '001a610e-d9ae-478f-b0c6-0e15d55ed8e8': 768,\n",
       " '001a65ca-d54f-48fc-b7ab-eef509f114e9': 769,\n",
       " '001a686c-70f4-4d16-996e-e655116e38d0': 770,\n",
       " '001a6958-dbc3-48e2-9be4-986740a04cc9': 771,\n",
       " '001a702b-d0ab-4936-b523-8a22399931c3': 772,\n",
       " '001a7d47-59cb-466d-b241-3a0ff641b1d7': 773,\n",
       " '001a7fda-8909-4789-ac28-673f2e22df23': 774,\n",
       " '001a8143-4a20-419e-ac79-5e235afb0ab9': 775,\n",
       " '001a865c-7946-4a3e-836d-eac741e73546': 776,\n",
       " '001a8788-64a2-4756-85d4-92e839067cbf': 777,\n",
       " '001a8b10-bccc-436a-9afe-5b5254bfe3f0': 778,\n",
       " '001a9b0e-6a85-4573-9f6a-ae0f1616151c': 779,\n",
       " '001a9e0f-2c1d-4dbc-b5ea-d0a2ce385bcd': 780,\n",
       " '001aa8b5-5622-4788-ba3a-9ee63b5d6df6': 781,\n",
       " '001ab0ff-f2ed-44fd-9222-eee3d27bc72f': 782,\n",
       " '001ab4c3-37e4-4d75-be98-85931b495b96': 783,\n",
       " '001abb65-c918-4ce5-a079-23e9d5e60a84': 784,\n",
       " '001abfd8-9116-4538-8e43-79f22a40a534': 785,\n",
       " '001ae107-f4b4-4187-afe3-62210935427d': 786,\n",
       " '001ae498-220d-4884-b208-a3b775fa87e0': 787,\n",
       " '001aef3f-2d63-4806-8e17-6cb0e5087cad': 788,\n",
       " '001afe57-8482-4bcc-b020-71a212266a8f': 789,\n",
       " '001b04d2-2249-4828-a787-b835d518220e': 790,\n",
       " '001b119e-3781-4d59-9801-6f2e00375ded': 791,\n",
       " '001b2fc8-08a6-454d-b328-926f76e7c06f': 792,\n",
       " '001b46d6-76b8-4bb9-9c2e-34a661137e13': 793,\n",
       " '001b65ad-0ece-4b13-af76-7d667519ae34': 794,\n",
       " '001b6c0a-9c48-4577-a4b0-855f272aacc1': 795,\n",
       " '001b71d3-08d9-498a-8839-0864a1b01203': 796,\n",
       " '001b7200-4986-4a32-9125-001a5c35369c': 797,\n",
       " '001b7732-e85a-4327-8cc8-4b8249e866b1': 798,\n",
       " '001b7bca-4130-4834-b842-a2eabda8040f': 799,\n",
       " '001b9067-ca20-4e3a-abd1-bb87f2a8edc0': 800,\n",
       " '001b9341-8e60-4c1e-ba71-c994f32fc384': 801,\n",
       " '001b952f-b951-449a-863e-2617d25c04f0': 802,\n",
       " '001b9b8a-e42d-4790-aa5c-794b3bf0d257': 803,\n",
       " '001babcd-0227-4401-86cc-62c2f0d08c75': 804,\n",
       " '001bb3c2-c571-4259-86c7-208308f18452': 805,\n",
       " '001bbb44-51e3-4d2a-a934-fd617e35d5fb': 806,\n",
       " '001bd50e-0085-44be-96f1-35b6fbad729f': 807,\n",
       " '001bd570-6497-4253-831c-a62ed950d436': 808,\n",
       " '001bddd9-c6d7-475d-b90b-defa0cabe0b8': 809,\n",
       " '001be7a6-d0f6-4f54-8c47-970a42792085': 810,\n",
       " '001bf316-c0a7-4c9d-a342-b8cd8e099883': 811,\n",
       " '001bf3a5-5a43-4815-8a33-b0f0c8774aef': 812,\n",
       " '001bf434-14c2-485b-9879-4fbff459b04b': 813,\n",
       " '001bfd77-58b4-4a70-9cec-967229b860f3': 814,\n",
       " '001c09aa-86a7-4d86-ad7f-a6118a7c9f73': 815,\n",
       " '001c09b4-86ce-40ef-8299-a24218a82bee': 816,\n",
       " '001c20f4-6803-4743-bce0-2e7a62326c63': 817,\n",
       " '001c237d-1c6e-452e-a293-668e812227d8': 818,\n",
       " '001c2ccf-a4a6-49cc-a2ae-bc55fd61f49b': 819,\n",
       " '001c38cf-2add-4a0c-81f1-0a883fcf71c6': 820,\n",
       " '001c3dfc-44b5-4525-803c-1243a736f255': 821,\n",
       " '001c51ab-9fbf-4849-a3fb-6abbca0b5138': 822,\n",
       " '001c5540-813e-43c3-97fe-61305d0a1e12': 823,\n",
       " '001c5b47-85c8-4b3f-8b1a-11519af2da8d': 824,\n",
       " '001c5da9-2d16-4377-8602-046920991cf3': 825,\n",
       " '001c5fd8-73e6-4ac2-8232-10b82c08cf9c': 826,\n",
       " '001c700d-82f3-461d-acaf-9e10d4582976': 827,\n",
       " '001c72bb-a1dc-43bc-8ffc-17b8de55e6b8': 828,\n",
       " '001c766f-9d78-481e-9e03-c97055e1191a': 829,\n",
       " '001c8217-c3fb-4989-aea1-bfbe4073f53f': 830,\n",
       " '001c853e-0ac7-4734-95d1-eb07e7146239': 831,\n",
       " '001c85b0-be59-49a3-8a21-c8bd4fb11535': 832,\n",
       " '001c8d77-7996-4923-b514-2d8b784d3786': 833,\n",
       " '001c929e-2857-44ce-b873-a95b6b6ec322': 834,\n",
       " '001c92ec-d081-46f0-87e8-6327a3ae1f9c': 835,\n",
       " '001c9e22-ac99-496e-9277-4776da79c822': 836,\n",
       " '001c9ecc-1e92-44b3-9779-d1fb1526dabe': 837,\n",
       " '001ca015-aa77-417a-acec-4b4f44c995ab': 838,\n",
       " '001cd48b-f715-4677-8e31-3630cf74918a': 839,\n",
       " '001ce2c5-5fde-442a-865a-a314b2a99a72': 840,\n",
       " '001ce322-037b-4462-90d0-42b04f9ec720': 841,\n",
       " '001cebfc-8510-4516-8483-b867e67617a3': 842,\n",
       " '001cf52d-43f4-42e2-a95d-d64e7259764f': 843,\n",
       " '001cf771-08cf-491f-85e4-74e09603e7a5': 844,\n",
       " '001d0054-b328-480c-a719-82acee1ef480': 845,\n",
       " '001d00b2-ccd8-41da-9487-55dfe3741757': 846,\n",
       " '001d0f68-cda0-450a-9d37-f555a9886293': 847,\n",
       " '001d18f7-e986-4daa-8745-e42a22bed944': 848,\n",
       " '001d1fee-0176-4fb0-a2b9-ce861934433b': 849,\n",
       " '001d2ac4-34c3-46ac-a270-50f62aae7387': 850,\n",
       " '001d30c7-d75e-4708-9423-86a92dc4ed95': 851,\n",
       " '001d3170-b049-40a6-b081-046cb4fc756f': 852,\n",
       " '001d3719-4be1-4583-a7d5-ba8779cfcc7b': 853,\n",
       " '001d38f1-f741-43d1-86ca-154b1bc2eeac': 854,\n",
       " '001d3f9b-f8fe-4f92-b015-cd5b925813d8': 855,\n",
       " '001d4115-ddef-4c76-89bc-b34c3b225f57': 856,\n",
       " '001d4184-2ff1-4614-a3be-993712a4b9ba': 857,\n",
       " '001d431d-3f16-4156-83e6-b98bc2d3b24e': 858,\n",
       " '001d4ffc-7506-4a82-b3db-54441d6a51b5': 859,\n",
       " '001d5822-4b13-46c7-9357-b9ceaf2a363f': 860,\n",
       " '001d6032-65ba-4903-a0fb-4f3702ad055b': 861,\n",
       " '001d621a-a98d-4a19-98fa-5273f1f3f1a3': 862,\n",
       " '001d63a8-ba49-4892-9df9-903a798b64f8': 863,\n",
       " '001d648e-d958-42f4-9937-7de017e4d1f7': 864,\n",
       " '001d78d7-6251-472f-a650-7317cad2d071': 865,\n",
       " '001d79b2-0222-4bd1-a6a7-c726d9849bbe': 866,\n",
       " '001d7d0e-d953-4dc3-baa7-b0010dbcfecb': 867,\n",
       " '001d8016-95a7-4d1a-9003-dacdfe0292a9': 868,\n",
       " '001d9c36-f78d-4238-86d8-5380db7b103c': 869,\n",
       " '001dadf2-4e46-4a15-b079-05eeb880aca2': 870,\n",
       " '001dc891-eae6-4413-973a-eb3941f43040': 871,\n",
       " '001de723-343c-4712-b26d-52a43fd31c49': 872,\n",
       " '001df2de-3f62-4834-915f-06b61897d06f': 873,\n",
       " '001dfc04-33e9-4e93-968f-18b198803a7f': 874,\n",
       " '001e0537-8d9e-44a7-a536-e66fe2059b15': 875,\n",
       " '001e1560-c437-4c18-b274-2daa195ce1b5': 876,\n",
       " '001e1bcb-9689-4176-8392-47b7c958f02e': 877,\n",
       " '001e1f73-379b-4f11-8ae3-e7aa325b7746': 878,\n",
       " '001e3a7a-ea84-42b9-afad-516032e2531f': 879,\n",
       " '001e412f-4cc0-417c-bee8-cc37ad49a55c': 880,\n",
       " '001e457f-c62b-4723-9cb3-78dd5dc77024': 881,\n",
       " '001e4679-39c9-4d69-bf43-13fe568fbc5b': 882,\n",
       " '001e72a6-e49d-4092-aeb0-d7ac09d4f955': 883,\n",
       " '001e8448-1cfb-4d5d-bc7e-c0baf570ac99': 884,\n",
       " '001e9036-14c5-451e-89ad-cb4ae7af5561': 885,\n",
       " '001e91d7-5a97-43ec-9de0-13993f34a92d': 886,\n",
       " '001e93f7-fe25-4efc-a418-e95e1cc655ae': 887,\n",
       " '001e9579-93e8-404e-8983-47de2d81bcb5': 888,\n",
       " '001e9620-d6ea-4a33-9c0b-79b8a05b679a': 889,\n",
       " '001e98d9-318f-4c82-ad26-54a97eea8849': 890,\n",
       " '001e9f30-a821-405b-9dfa-04c603e5dee8': 891,\n",
       " '001ea285-5275-483e-9c8d-f090f316abe8': 892,\n",
       " '001ea51a-659e-46ab-98f9-17d84920c089': 893,\n",
       " '001eb2f8-c3c4-41fd-aa1d-a8033988a15b': 894,\n",
       " '001eca2b-6605-4bf9-8dac-23de60f0b383': 895,\n",
       " '001ed1f2-ef93-463e-aa26-2162f2e7543d': 896,\n",
       " '001ed8ae-12d7-45da-af1a-e0c6064679af': 897,\n",
       " '001edc66-265e-4d56-9a0b-da278aeed20a': 898,\n",
       " '001ee02b-d4fd-4694-890d-9bbb8148615a': 899,\n",
       " '001eee7f-7a1a-4aeb-a12c-45646c363a45': 900,\n",
       " '001ef12f-2eeb-450b-a71a-f3415c1674e6': 901,\n",
       " '001ef8c2-e1ff-4ed1-a26b-b0b89e431dd0': 902,\n",
       " '001f01ef-da38-4eb0-8f9a-8c54289e9054': 903,\n",
       " '001f0677-d4d1-4218-a2d1-5c759581f2ce': 904,\n",
       " '001f0bec-5f3c-4d5e-8653-24e144a58f8d': 905,\n",
       " '001f0da5-96b1-45e8-9275-85581a805f09': 906,\n",
       " '001f24d4-80df-41be-ab97-c9dc26a4d257': 907,\n",
       " '001f352b-f3d7-4630-8ea2-6d5615de535e': 908,\n",
       " '001f5066-9e8a-4cbc-bdd3-1f6891f12e5f': 909,\n",
       " '001f6448-84a7-4415-9bd5-febfd862b13c': 910,\n",
       " '001f6b42-72bc-4756-904a-3543846a5560': 911,\n",
       " '001f70b7-3c2a-4df6-acb5-d9941995fcca': 912,\n",
       " '001f83ae-7671-43b0-b09d-fd5b656f1404': 913,\n",
       " '001f8967-7e26-47af-9f6e-d3a2281ea215': 914,\n",
       " '001f8a71-ac68-4f89-9eea-63d9eafed7c7': 915,\n",
       " '001f8e6d-291c-4e75-b6d3-596ae60049b8': 916,\n",
       " '001f9cc6-e0f3-4a96-b3ff-2c5b7f2425b7': 917,\n",
       " '001fa8f5-1b5c-480c-a694-7f44e4a51093': 918,\n",
       " '001fab45-1429-43ea-a0e8-53cc7e7daa2a': 919,\n",
       " '001fb077-5ebd-42e0-ba1f-61a08d0ec799': 920,\n",
       " '001fb444-754f-4e11-9425-6f9c06196c7d': 921,\n",
       " '001fb77d-08e3-4159-9e6e-fe6192ade98c': 922,\n",
       " '001fb7dc-a844-4782-b9b4-09d6a4567f8c': 923,\n",
       " '001fb9e8-c01f-40a2-a872-22720eb9c2fe': 924,\n",
       " '001fbca9-9424-40bd-856a-fdd31053cf88': 925,\n",
       " '001fc11a-7861-4819-ad52-0e263b48c590': 926,\n",
       " '001fca7e-f244-4e4c-bfc0-22700ab137bf': 927,\n",
       " '001fcdbc-3f6b-4eec-8660-85edd4305ec0': 928,\n",
       " '001fdadd-94ef-42dc-becb-4ea3b095ea6a': 929,\n",
       " '001fdff1-b344-4d1c-acc9-43c5e8deeb2f': 930,\n",
       " '001fe58b-e24f-4fd6-b122-57990a3c8270': 931,\n",
       " '001ff8d3-1e11-4dbf-b1ce-10822c33b4de': 932,\n",
       " '001ffddf-523b-41eb-85ac-4de93805d86f': 933,\n",
       " '00200537-708d-4db6-b8cd-91679f682072': 934,\n",
       " '00201443-a6e2-4171-9222-795ee038a847': 935,\n",
       " '00201f10-bc6d-495a-aee8-03c991e3b3b9': 936,\n",
       " '00202161-4ddd-47ea-b467-292e11ed66a3': 937,\n",
       " '00202e22-3e3d-4d31-aed5-7b526ee2af8e': 938,\n",
       " '00203600-dcac-4a28-8fc7-48952c4d5720': 939,\n",
       " '00203671-f20f-4b95-bc26-38391f9a0c35': 940,\n",
       " '00203f13-0e2c-46b2-8191-f7c828f6a5f6': 941,\n",
       " '00205a71-f7e7-4c1b-85f5-fcab8df58ecc': 942,\n",
       " '0020774c-0b38-4804-8c3b-72be495fc3f3': 943,\n",
       " '00207bb7-280d-412f-95f2-0b0a0940316b': 944,\n",
       " '00208a56-5d66-45ec-81fa-1e90278e6dc2': 945,\n",
       " '00208d04-1996-4e95-afdc-2a5555fbd0e7': 946,\n",
       " '00209004-5398-4fb5-80bb-bf5176eeef36': 947,\n",
       " '002094e2-d5bb-4b88-a6f0-2266b1517c86': 948,\n",
       " '00209b9f-d3dc-440f-8cc6-fb708cf5d4c5': 949,\n",
       " '0020a380-9062-48f9-839f-bba22265f476': 950,\n",
       " '0020bc9c-17a5-4605-80d7-d93de1a6e780': 951,\n",
       " '0020c0f9-5427-45bc-9b42-509c75d71843': 952,\n",
       " '0020e746-d853-4b2c-a353-aea7f27655fb': 953,\n",
       " '0020e89e-baa0-49b6-b283-742c70d08ee0': 954,\n",
       " '0020eed6-556a-4ecc-8502-12faa2385dc4': 955,\n",
       " '0020f52d-e9e2-4ba7-948e-188042078f95': 956,\n",
       " '0020fed9-2fa8-46a9-8d60-9baa1e982b70': 957,\n",
       " '00210723-6618-447c-bdf4-70deb665bb3a': 958,\n",
       " '0021081a-347a-4722-b381-654ea9d52708': 959,\n",
       " '002108c5-ced5-4eb4-843f-ca6f94245b4e': 960,\n",
       " '00210aae-9680-44bd-bb17-1b152c11bec8': 961,\n",
       " '00210b73-5dab-4fc7-8b4d-2f6d664b0962': 962,\n",
       " '00210d37-9b7e-41c2-9800-29338caf548e': 963,\n",
       " '00211bac-57ca-4e1e-9310-873ae7176304': 964,\n",
       " '0021212e-63cc-4a8e-89d6-361ac67e1b0e': 965,\n",
       " '002139da-6f55-4f8c-944d-96c0e2735f5e': 966,\n",
       " '00214385-c71e-4832-8544-6579e210bd45': 967,\n",
       " '002145d8-e30b-48f3-90d0-65fec9d7d6cc': 968,\n",
       " '0021502a-1616-4734-990c-3a8f99126aba': 969,\n",
       " '002156c2-b0a5-477e-a592-79125997e2d1': 970,\n",
       " '00215980-6a5e-49b3-8be4-bae7d2492d32': 971,\n",
       " '00215cf0-4e28-43a9-acd5-1b95cadbec5a': 972,\n",
       " '002162a0-33bf-4353-bb3e-8437e0075668': 973,\n",
       " '00216db6-3393-4ecb-ab7b-383b7c8c6d3d': 974,\n",
       " '00216f50-6952-42b3-bcc3-b012add1cecd': 975,\n",
       " '00218d28-7807-4de7-b0b9-8084d1c70dcd': 976,\n",
       " '0021afb9-0c51-4a33-890c-fb22aa7f748e': 977,\n",
       " '0021b437-a8df-4494-9a47-187978b191d4': 978,\n",
       " '0021c14a-7f7b-4e81-8c66-f9c3233317c7': 979,\n",
       " '0021c310-bf75-42c5-ad26-ed610928260e': 980,\n",
       " '0021c9ec-9a39-4686-bf91-eff54b4ccb24': 981,\n",
       " '0021cdeb-5b96-402b-8e0c-783e931abcf6': 982,\n",
       " '0021d69b-ce3b-4a98-b383-fb72333e69e4': 983,\n",
       " '0021eadc-cf91-4aa3-96bb-7ec1ab41725b': 984,\n",
       " '0021f0e0-f526-4689-acfa-f3a671723804': 985,\n",
       " '0021f12e-b152-4099-bd03-58f5544172cf': 986,\n",
       " '0022088f-b3aa-4d8d-b332-6618dcd83547': 987,\n",
       " '002208c7-4b4c-4aba-a49f-639c33ebe35b': 988,\n",
       " '002214a8-8947-4b3e-8dd3-01d040d6af31': 989,\n",
       " '0022165f-a1a1-4430-ad2e-f93e59359e66': 990,\n",
       " '002219c6-3132-4418-90f7-05b89be23e29': 991,\n",
       " '002219f6-9812-4a1c-b8c5-8fabfa9ca03a': 992,\n",
       " '002220d4-f993-46e5-b251-0dd3e646a893': 993,\n",
       " '00222178-4c38-4044-a71c-54de785c7e2c': 994,\n",
       " '002225de-ce3e-43af-8dc2-e2f8b754f8ee': 995,\n",
       " '002231bb-e0d1-42e6-9235-f7bc9d4fdc50': 996,\n",
       " '00223c97-52c5-4905-a0ae-7fc9450b3197': 997,\n",
       " '00224720-dfe6-4212-8fc8-6b400a18f914': 998,\n",
       " '0022472b-95b1-4c77-b01c-06c56299a93c': 999,\n",
       " ...}"
      ]
     },
     "execution_count": 32,
     "metadata": {},
     "output_type": "execute_result"
    }
   ],
   "source": [
    "customer_map"
   ]
  },
  {
   "cell_type": "code",
   "execution_count": 15,
   "metadata": {},
   "outputs": [],
   "source": [
    "test_df = df[train_size:]"
   ]
  },
  {
   "cell_type": "code",
   "execution_count": 24,
   "metadata": {},
   "outputs": [
    {
     "data": {
      "text/plain": [
       "array(['f130c542-d793-41d0-88f6-d1c52b4fe8f0',\n",
       "       '752a7f86-3b60-42b4-945c-9d25a83a9632',\n",
       "       'da087c55-9ccf-4914-a23e-dc2984582c54',\n",
       "       '941e630e-93bc-4326-b57b-c2f2cb42edbc',\n",
       "       'bdd146bd-eba9-4db0-98cf-2a35d8ea3dcd',\n",
       "       '79df83fc-7c78-4417-89a9-6dd4784a2dda',\n",
       "       '23dc13de-88ac-4124-837b-e4016a289d6f',\n",
       "       'a588416e-597c-4ef9-8afa-f315411811a9',\n",
       "       '2809a461-277e-40a1-afdb-9d5aead6dfbc',\n",
       "       '2e7079b4-9773-49c4-966d-c876fc9f3919',\n",
       "       'b5d190c7-32b2-4210-9af7-03d71ba81fc8',\n",
       "       '28c1ba9b-96ed-41ee-b5ab-c05de22ed6b7',\n",
       "       '34957903-0b34-49f7-a243-b6b3fc074fdf',\n",
       "       '046fd932-24cd-45c7-8bc9-899af5204e89',\n",
       "       '035a620f-9789-4be9-921a-2dfdc3dec371',\n",
       "       '7805a29f-6076-4802-a5ed-687ae2680abe',\n",
       "       '75046ab2-a978-44a4-afbc-5ae30ce7f449',\n",
       "       'a6eb2400-c46b-4e1f-9ce0-aa469d95fc8b',\n",
       "       '51d65dad-a8be-4553-8034-2c50c5ccb67b',\n",
       "       '3072b612-5b82-4d74-8fa2-35d4de1256a8',\n",
       "       'e2eeb1d4-87ab-4981-b553-14f62710f022',\n",
       "       '591db297-8ff5-4c2d-8902-4e5ff5c041df'], dtype=object)"
      ]
     },
     "execution_count": 24,
     "metadata": {},
     "output_type": "execute_result"
    }
   ],
   "source": [
    "df[df['customer_id'] == '204685f9-00f0-4a36-bab1-e0b74673c3b1'].product_id.unique()"
   ]
  },
  {
   "cell_type": "markdown",
   "metadata": {},
   "source": [
    "## Create occurence sparse matrix"
   ]
  },
  {
   "cell_type": "code",
   "execution_count": 16,
   "metadata": {},
   "outputs": [],
   "source": [
    "cooDf = sparse.coo_matrix((np.ones(train_size), \n",
    "    (customer_id_lookup, product_id_lookup)))"
   ]
  },
  {
   "cell_type": "code",
   "execution_count": 15,
   "metadata": {},
   "outputs": [
    {
     "data": {
      "text/plain": [
       "(1882180, 118612)"
      ]
     },
     "execution_count": 15,
     "metadata": {},
     "output_type": "execute_result"
    }
   ],
   "source": [
    "cooDf.shape"
   ]
  },
  {
   "cell_type": "markdown",
   "metadata": {},
   "source": [
    "# Popularity"
   ]
  },
  {
   "cell_type": "markdown",
   "metadata": {},
   "source": [
    "#### Transform coo_matrix to transposed lil_matrix for counting column occurences fast "
   ]
  },
  {
   "cell_type": "code",
   "execution_count": 17,
   "metadata": {},
   "outputs": [],
   "source": [
    "lilDf = cooDf.tolil().transpose()"
   ]
  },
  {
   "cell_type": "code",
   "execution_count": 18,
   "metadata": {},
   "outputs": [
    {
     "data": {
      "text/plain": [
       "(118612, 1882180)"
      ]
     },
     "execution_count": 18,
     "metadata": {},
     "output_type": "execute_result"
    }
   ],
   "source": [
    "lilDf.shape"
   ]
  },
  {
   "cell_type": "code",
   "execution_count": 18,
   "metadata": {},
   "outputs": [],
   "source": [
    "column_counts = [i.nnz for i in lilDf]"
   ]
  },
  {
   "cell_type": "code",
   "execution_count": 19,
   "metadata": {},
   "outputs": [],
   "source": [
    "del lilDf"
   ]
  },
  {
   "cell_type": "markdown",
   "metadata": {},
   "source": [
    "#### Get 10 most popular"
   ]
  },
  {
   "cell_type": "code",
   "execution_count": 20,
   "metadata": {},
   "outputs": [],
   "source": [
    "most_popular_idxs = heapq.nlargest(10, range(len(column_counts)), column_counts.__getitem__)"
   ]
  },
  {
   "cell_type": "code",
   "execution_count": 21,
   "metadata": {},
   "outputs": [
    {
     "name": "stdout",
     "output_type": "stream",
     "text": [
      "[78118, 105143, 7219, 44905, 23061, 95360, 50429, 48582, 60728, 82888]\n"
     ]
    }
   ],
   "source": [
    "print(most_popular_idxs)"
   ]
  },
  {
   "cell_type": "markdown",
   "metadata": {},
   "source": [
    "#### Print total user interactions with popular items"
   ]
  },
  {
   "cell_type": "code",
   "execution_count": 44,
   "metadata": {},
   "outputs": [
    {
     "name": "stdout",
     "output_type": "stream",
     "text": [
      "Sparse density - number of unique user interactions with items:\n"
     ]
    },
    {
     "data": {
      "text/plain": [
       "['Item id: 78118 - Interactions: 27500',\n",
       " 'Item id: 105143 - Interactions: 27314',\n",
       " 'Item id: 7219 - Interactions: 24698',\n",
       " 'Item id: 44905 - Interactions: 24655',\n",
       " 'Item id: 23061 - Interactions: 23024',\n",
       " 'Item id: 95360 - Interactions: 21887',\n",
       " 'Item id: 50429 - Interactions: 18969',\n",
       " 'Item id: 48582 - Interactions: 16833',\n",
       " 'Item id: 60728 - Interactions: 16397',\n",
       " 'Item id: 82888 - Interactions: 15351']"
      ]
     },
     "execution_count": 44,
     "metadata": {},
     "output_type": "execute_result"
    }
   ],
   "source": [
    "print('Sparse density - number of unique user interactions with items:')\n",
    "list(map(lambda x: 'Item id: {} - Interactions: {}'.format(x, len(cooDf.getcol(x).nonzero()[0])), most_popular_idxs))"
   ]
  },
  {
   "cell_type": "code",
   "execution_count": 22,
   "metadata": {},
   "outputs": [],
   "source": [
    "most_popular_item_ids = list(map(lambda x: item_map[x], most_popular_idxs))"
   ]
  },
  {
   "cell_type": "code",
   "execution_count": 46,
   "metadata": {},
   "outputs": [
    {
     "data": {
      "text/plain": [
       "['a8f0292d-5fca-42b9-b0d3-b38e7efa416b',\n",
       " 'e33cea18-ee3f-4e37-83a7-1d88c54d83b8',\n",
       " '0f943312-7141-4606-abfa-81fd63a5498f',\n",
       " '608f32cd-210c-4af5-99d8-6182a9678cf5',\n",
       " '31ae211d-57a9-4bfa-b95f-40776af03c3f',\n",
       " 'ce1bc0cc-5e6c-4587-9d7a-82a6e32648a5',\n",
       " '6cee8dc2-0528-49f4-891a-f89a8114cfd6',\n",
       " '68d71059-0dd3-4817-b266-ebeb0d555c38',\n",
       " '8369aebc-fba5-4957-b3fb-7da05f327dff',\n",
       " 'b345fd30-281d-4b32-8f88-76fc84bea664']"
      ]
     },
     "execution_count": 46,
     "metadata": {},
     "output_type": "execute_result"
    }
   ],
   "source": [
    "most_popular_item_ids"
   ]
  },
  {
   "cell_type": "code",
   "execution_count": 39,
   "metadata": {},
   "outputs": [
    {
     "ename": "NameError",
     "evalue": "name 'df' is not defined",
     "output_type": "error",
     "traceback": [
      "\u001b[0;31m---------------------------------------------------------------------------\u001b[0m",
      "\u001b[0;31mNameError\u001b[0m                                 Traceback (most recent call last)",
      "\u001b[0;32m<ipython-input-39-574c8bac5643>\u001b[0m in \u001b[0;36m<module>\u001b[0;34m()\u001b[0m\n\u001b[0;32m----> 1\u001b[0;31m \u001b[0mtmp\u001b[0m \u001b[0;34m=\u001b[0m \u001b[0mdf\u001b[0m\u001b[0;34m[\u001b[0m\u001b[0;34m:\u001b[0m\u001b[0mtrain_size\u001b[0m\u001b[0;34m]\u001b[0m\u001b[0;34m\u001b[0m\u001b[0;34m\u001b[0m\u001b[0m\n\u001b[0m\u001b[1;32m      2\u001b[0m \u001b[0;32mfor\u001b[0m \u001b[0mid\u001b[0m \u001b[0;32min\u001b[0m \u001b[0mmost_popular_item_ids\u001b[0m\u001b[0;34m:\u001b[0m\u001b[0;34m\u001b[0m\u001b[0;34m\u001b[0m\u001b[0m\n\u001b[1;32m      3\u001b[0m     \u001b[0mprint\u001b[0m\u001b[0;34m(\u001b[0m\u001b[0mid\u001b[0m\u001b[0;34m,\u001b[0m \u001b[0mtmp\u001b[0m\u001b[0;34m[\u001b[0m\u001b[0mtmp\u001b[0m\u001b[0;34m.\u001b[0m\u001b[0mproduct_id\u001b[0m \u001b[0;34m==\u001b[0m \u001b[0mid\u001b[0m\u001b[0;34m]\u001b[0m\u001b[0;34m.\u001b[0m\u001b[0mshape\u001b[0m\u001b[0;34m[\u001b[0m\u001b[0;36m0\u001b[0m\u001b[0;34m]\u001b[0m\u001b[0;34m)\u001b[0m\u001b[0;34m\u001b[0m\u001b[0;34m\u001b[0m\u001b[0m\n\u001b[1;32m      4\u001b[0m \u001b[0;32mdel\u001b[0m \u001b[0mtmp\u001b[0m\u001b[0;34m\u001b[0m\u001b[0;34m\u001b[0m\u001b[0m\n",
      "\u001b[0;31mNameError\u001b[0m: name 'df' is not defined"
     ]
    }
   ],
   "source": [
    "tmp = df[:train_size]\n",
    "for id in most_popular_item_ids:\n",
    "    print(id, tmp[tmp.product_id == id].shape)\n",
    "del tmp"
   ]
  },
  {
   "cell_type": "code",
   "execution_count": null,
   "metadata": {},
   "outputs": [],
   "source": [
    "del df"
   ]
  },
  {
   "cell_type": "markdown",
   "metadata": {},
   "source": [
    "# Model"
   ]
  },
  {
   "cell_type": "code",
   "execution_count": null,
   "metadata": {},
   "outputs": [],
   "source": [
    "cooDf.data = np.log1p(cooDf.data)"
   ]
  },
  {
   "cell_type": "code",
   "execution_count": 76,
   "metadata": {},
   "outputs": [],
   "source": [
    "class KNN_model:\n",
    "    def __init__(self,\n",
    "                 n_neighbors, \n",
    "                 metric, \n",
    "                 coo, \n",
    "                 customer_map, \n",
    "                 product_map, \n",
    "                 N_popular_ids, \n",
    "                 discard_already_seen=False,\n",
    "                 cutoff_low_similarity=False,\n",
    "                 cutoff_threshold=0.2,\n",
    "                 normalize_coo=False\n",
    "                ):\n",
    "        self.n_neighbors = n_neighbors\n",
    "        self.model = NearestNeighbors(n_neighbors, metric=metric, n_jobs=-1)\n",
    "        self.coo = coo\n",
    "        self.customer_map = customer_map\n",
    "        self.product_map = product_map\n",
    "        self.N_popular_ids = N_popular_ids\n",
    "        self.discard_already_seen = discard_already_seen\n",
    "        self.cutoff_low_similarity = cutoff_low_similarity\n",
    "        self.cutoff_threshold = cutoff_threshold\n",
    "        if normalize_coo == True:\n",
    "            self.coo.data = np.log1p(self.coo.data)\n",
    "        \n",
    "            \n",
    "        \n",
    "    def fit(self):\n",
    "        self.model.fit(self.coo)\n",
    "        \n",
    "    def translate_relevances_to_product_ids(self, relevances):\n",
    "        return list(map(lambda x: self.product_map[x[0]], relevances))\n",
    "    \n",
    "    def fill_with_popularity(self, recommendations):\n",
    "        rec_len = len(recommendations)\n",
    "        return recommendations + self.N_popular_ids[:10-rec_len]\n",
    "    \n",
    "    def find_first_smaller_index(self, relevances):\n",
    "        try:\n",
    "            idx_first_smaller = next(idx for idx, value in enumerate(relevances) \n",
    "                                     if value[1] < self.cutoff_threshold)\n",
    "            return idx_first_smaller\n",
    "        except StopIteration:\n",
    "            return len(relevances)\n",
    "            \n",
    "            \n",
    "    def predict_10(self, customer_id):\n",
    "        if customer_id in self.customer_map:\n",
    "            customer_index = self.customer_map[customer_id]\n",
    "            customer_row = self.coo.getrow(customer_index)\n",
    "\n",
    "            # get neighbors\n",
    "            neighbors = self.model.kneighbors(customer_row, n_neighbors=self.n_neighbors)\n",
    "            \n",
    "            # sum their items based on distance            \n",
    "            item_relevances = {}\n",
    "            for dist, idx in zip(neighbors[0][0], neighbors[1][0]):           \n",
    "                nb_items = self.coo.getrow(idx).nonzero()[1]\n",
    "                relevance = 1 - dist\n",
    "                for nb_item in nb_items:\n",
    "                    item_relevances[nb_item] = item_relevances.get(nb_item, 0) + relevance\n",
    "                    \n",
    "            if self.discard_already_seen == True:\n",
    "                # remove items already interacted with\n",
    "                own_items = customer_row.nonzero()[1]\n",
    "                for i in own_items:\n",
    "                    item_relevances.pop(i, None)\n",
    "                \n",
    "            \n",
    "            # Sorted by relevance\n",
    "            sorted_relevances = sorted(item_relevances.items(), key=lambda kv: kv[1], reverse=True)\n",
    "            \n",
    "            # Cutoff items with low relevance and thus fill missing spots with popularity\n",
    "            if self.cutoff_low_similarity == True:\n",
    "                first_smaller_idx = self.find_first_smaller_index(sorted_relevances)\n",
    "                sorted_relevances = sorted_relevances[:first_smaller_idx]\n",
    "            \n",
    "            product_recommendations = self.translate_relevances_to_product_ids(sorted_relevances[:10])\n",
    "            product_recommendations = self.fill_with_popularity(product_recommendations)\n",
    "    \n",
    "            return product_recommendations\n",
    "            # return top 10\n",
    "        else:\n",
    "            return self.fill_with_popularity([])"
   ]
  },
  {
   "cell_type": "code",
   "execution_count": 68,
   "metadata": {},
   "outputs": [],
   "source": [
    "neigh = KNN_model(10,\n",
    "                  metric='cosine',\n",
    "                  coo=cooDf, \n",
    "                  customer_map=customer_map, \n",
    "                  product_map=item_map,\n",
    "                  N_popular_ids=most_popular_item_ids,\n",
    "                  discard_already_seen=True\n",
    "                  cutoff_low_similarity=False,\n",
    "                  cutoff_threshold=0.2,\n",
    "                  normalize_coo=False\n",
    ")\n",
    "neigh.fit()"
   ]
  },
  {
   "cell_type": "code",
   "execution_count": 117,
   "metadata": {},
   "outputs": [],
   "source": [
    "model_1_settings = {\n",
    "    'n_neighbors': 10,\n",
    "    'metric': 'cosine',\n",
    "    'coo': cooDf, \n",
    "    'customer_map': customer_map, \n",
    "    'product_map': item_map,\n",
    "    'N_popular_ids': most_popular_item_ids,\n",
    "    'discard_already_seen': True,\n",
    "    'cutoff_low_similarity': False,\n",
    "    'cutoff_threshold': 0.2,\n",
    "    'normalize_coo': False\n",
    "}\n",
    "\n",
    "model_2_settings = {\n",
    "    'n_neighbors': 20,\n",
    "    'metric': 'cosine',\n",
    "    'coo': cooDf, \n",
    "    'customer_map': customer_map, \n",
    "    'product_map': item_map,\n",
    "    'N_popular_ids': most_popular_item_ids,\n",
    "    'discard_already_seen': True,\n",
    "    'cutoff_low_similarity': True,\n",
    "    'cutoff_threshold': 0.4,\n",
    "    'normalize_coo': False\n",
    "}\n",
    "\n",
    "model_3_settings = {\n",
    "    'n_neighbors': 5,\n",
    "    'metric': 'cosine',\n",
    "    'coo': cooDf, \n",
    "    'customer_map': customer_map, \n",
    "    'product_map': item_map,\n",
    "    'N_popular_ids': most_popular_item_ids,\n",
    "    'discard_already_seen': True,\n",
    "    'cutoff_low_similarity': True,\n",
    "    'cutoff_threshold': 0.15,\n",
    "    'normalize_coo': True\n",
    "}\n",
    "\n",
    "model_4_settings = {\n",
    "    'n_neighbors': 10,\n",
    "    'metric': 'cosine',\n",
    "    'coo': cooDf, \n",
    "    'customer_map': customer_map, \n",
    "    'product_map': item_map,\n",
    "    'N_popular_ids': most_popular_item_ids,\n",
    "    'discard_already_seen': False,\n",
    "    'cutoff_low_similarity': True,\n",
    "    'cutoff_threshold': 0.4,\n",
    "    'normalize_coo': False\n",
    "}\n",
    "\n",
    "model_5_settings = {\n",
    "    'n_neighbors': 20,\n",
    "    'metric': 'cosine',\n",
    "    'coo': cooDf, \n",
    "    'customer_map': customer_map, \n",
    "    'product_map': item_map,\n",
    "    'N_popular_ids': most_popular_item_ids,\n",
    "    'discard_already_seen': False,\n",
    "    'cutoff_low_similarity': False,\n",
    "    'cutoff_threshold': 0.2,\n",
    "    'normalize_coo': True\n",
    "}\n",
    "\n",
    "settings = [model_1_settings, model_2_settings, model_3_settings, model_4_settings, model_5_settings]"
   ]
  },
  {
   "cell_type": "code",
   "execution_count": 118,
   "metadata": {},
   "outputs": [],
   "source": [
    "neigh = KNN_model(**settings[0])"
   ]
  },
  {
   "cell_type": "code",
   "execution_count": 119,
   "metadata": {},
   "outputs": [],
   "source": [
    "neigh.fit()"
   ]
  },
  {
   "cell_type": "markdown",
   "metadata": {},
   "source": [
    "# Evaluation"
   ]
  },
  {
   "cell_type": "code",
   "execution_count": 26,
   "metadata": {},
   "outputs": [],
   "source": [
    "def dcg_at_k(r, k, method=0):\n",
    "    r = np.asfarray(r)[:k]\n",
    "    if r.size:\n",
    "        if method == 0:\n",
    "            return r[0] + np.sum(r[1:] / np.log2(np.arange(2, r.size + 1)))\n",
    "        elif method == 1:\n",
    "            return np.sum(r / np.log2(np.arange(2, r.size + 2)))\n",
    "        else:\n",
    "            raise ValueError('method must be 0 or 1.')\n",
    "    return 0.\n",
    "\n",
    "def ndcg_at_k(r, k, method=0):\n",
    "    dcg_max = dcg_at_k(sorted(r, reverse=True), k, method)\n",
    "#             print('Relevances:\\n', sorted_relevances[:10])\n",
    "    if not dcg_max:\n",
    "        return 0.\n",
    "    return dcg_at_k(r, k, method) / dcg_max"
   ]
  },
  {
   "cell_type": "code",
   "execution_count": 87,
   "metadata": {},
   "outputs": [
    {
     "name": "stdout",
     "output_type": "stream",
     "text": [
      "Testing on: 450 users\n"
     ]
    }
   ],
   "source": [
    "first_N_users = test_df[:1235].customer_id.unique()\n",
    "print('Testing on: {} users'.format(len(first_N_users)))\n",
    "\n"
   ]
  },
  {
   "cell_type": "code",
   "execution_count": null,
   "metadata": {},
   "outputs": [],
   "source": []
  },
  {
   "cell_type": "code",
   "execution_count": null,
   "metadata": {
    "scrolled": true
   },
   "outputs": [],
   "source": [
    "first_N = test_df[5:30].customer_id.unique()\n",
    "\n",
    "\n",
    "for customer in first_N:\n",
    "    nbs = neigh.predict_10(customer)\n",
    "    checked_products = set(test_df[test_df.customer_id == customer].product_id.unique())\n",
    "    \n",
    "    relevances = list(map(lambda x: 1 if x in checked_products else 0, nbs))\n",
    "    print(relevances)\n",
    "    print(ndcg_at_k(relevances, 10))\n",
    "#     print(dcg_score(checked_products, nbs, len(checked_products)) / dcg_score(checked_products, checked_products, len(checked_products)))\n",
    "#     print(label_ranking_average_precision_score(checked_products, nbs))\n",
    "    \n",
    "    shared = len(set(set(checked_products) & set(nbs)))\n",
    "    hits += shared\n",
    "    total += len(checked_products)\n",
    "#     print(\n",
    "#         len(nbs), \n",
    "#         len(checked_products), \n",
    "#         shared\n",
    "#     )\n",
    "\n",
    "print('Total:', total)\n",
    "print('Hits:', hits)"
   ]
  },
  {
   "cell_type": "code",
   "execution_count": 42,
   "metadata": {},
   "outputs": [],
   "source": [
    "unique_customers = test_df.customer_id.unique()"
   ]
  },
  {
   "cell_type": "code",
   "execution_count": 86,
   "metadata": {},
   "outputs": [
    {
     "data": {
      "text/plain": [
       "450"
      ]
     },
     "execution_count": 86,
     "metadata": {},
     "output_type": "execute_result"
    }
   ],
   "source": [
    "len(test_df[:1235].customer_id.unique())"
   ]
  },
  {
   "cell_type": "markdown",
   "metadata": {},
   "source": [
    "#### Notes:\n",
    "\n",
    "##### 6.11.2019\n",
    "- kategoriu rozparsovat na viacero stlpcov\n",
    "- TF-IDF na title\n",
    "- titlov je menej ako ID, casto je rovnaky nazov ale ine id, kedze sa mozu lisit vo farbe\n",
    "- tam kde chybaju data sa pozerat, ci nahodou rovnaky produkt niekde inde v datach nema doplnenu price/category_name aby som doplnil chybajuce\n",
    "- ak nemam aj tak najdene chybajuce hodnoty, skusat z rovnakej kategorie doplnit priemer a pod.\n",
    "- povedal som ze sa chcem zamerat na hladiny cien, kategorie, TF-IDF titles\n",
    "- on povedal aby som sa pozrel na vztahmi medzi kategoriami, tj ked niekto kupoval hento tak potom casto kupil toto\n",
    "- data spojit, su rovnake ale proste prisli v rozdielnych suboroch\n",
    "\n",
    "##### 20.11.2019\n",
    "- lematizacia, vectorizer, vyratat TF-IDF a ratat podobnosti, da sa to dat do elasticu ???\n",
    "- CF maticu pre produkty a userov, neudrziavat stlpce, ktore maju malo (1) views/buys + taktiez mozu na kazdy produkt byt pripojene vektory s nejakym kontextom, tj. TF-IDF title/category\n",
    "- knn?\n",
    "- ak nepojde - content-based TF-IDF nad titles/categories"
   ]
  }
 ],
 "metadata": {
  "kernelspec": {
   "display_name": "Python 3",
   "language": "python",
   "name": "python3"
  },
  "language_info": {
   "codemirror_mode": {
    "name": "ipython",
    "version": 3
   },
   "file_extension": ".py",
   "mimetype": "text/x-python",
   "name": "python",
   "nbconvert_exporter": "python",
   "pygments_lexer": "ipython3",
   "version": "3.6.8"
  }
 },
 "nbformat": 4,
 "nbformat_minor": 2
}
